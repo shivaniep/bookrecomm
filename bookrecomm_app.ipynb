{
  "nbformat": 4,
  "nbformat_minor": 0,
  "metadata": {
    "colab": {
      "provenance": [],
      "authorship_tag": "ABX9TyOYvOmt1TmSQFiNPWoG8l4n",
      "include_colab_link": true
    },
    "kernelspec": {
      "name": "python3",
      "display_name": "Python 3"
    },
    "language_info": {
      "name": "python"
    }
  },
  "cells": [
    {
      "cell_type": "markdown",
      "metadata": {
        "id": "view-in-github",
        "colab_type": "text"
      },
      "source": [
        "<a href=\"https://colab.research.google.com/github/shivaniep/bookrecomm/blob/main/bookrecomm_app.ipynb\" target=\"_parent\"><img src=\"https://colab.research.google.com/assets/colab-badge.svg\" alt=\"Open In Colab\"/></a>"
      ]
    },
    {
      "cell_type": "code",
      "source": [
        "from urllib.request import urlopen, Request\n",
        "from bs4 import BeautifulSoup\n",
        "\n",
        "url = 'https://www.goodreads.com/list/show/2681.Time_Magazine_s_All_Time_100_Novels'\n",
        "headers = {\n",
        "    'User-Agent': 'Mozilla/5.0 (Windows NT 10.0; Win64; x64) AppleWebKit/537.36 (KHTML, like Gecko) Chrome/58.0.3029.110 Safari/537.3'\n",
        "}\n",
        "\n",
        "req = Request(url, headers=headers)\n",
        "response = urlopen(req)\n",
        "soup = BeautifulSoup(response.read(), 'html.parser')"
      ],
      "metadata": {
        "id": "nq1L4CJvEx0E"
      },
      "execution_count": null,
      "outputs": []
    },
    {
      "cell_type": "code",
      "source": [
        "booklist=soup.find_all('a',{'class': 'bookTitle'})"
      ],
      "metadata": {
        "id": "wHAwmz0DFMDD"
      },
      "execution_count": null,
      "outputs": []
    },
    {
      "cell_type": "code",
      "source": [
        "with open('all_book.txt','w') as f:\n",
        "  for book in booklist:\n",
        "    f.write(book['href']+'\\n')"
      ],
      "metadata": {
        "id": "P6D-G_qqGIeu"
      },
      "execution_count": null,
      "outputs": []
    },
    {
      "cell_type": "code",
      "source": [
        "from urllib.request import urlopen, Request\n",
        "from bs4 import BeautifulSoup\n",
        "\n",
        "def get_book_data():\n",
        "    with open('all_book.txt') as f:\n",
        "        booklist = f.readlines()\n",
        "\n",
        "    data = []\n",
        "    for book in booklist:\n",
        "        url = 'https://www.goodreads.com/' + book.strip()  # Remove newline character from the end of the URL\n",
        "        headers = {\n",
        "            'User-Agent': 'Mozilla/5.0 (Windows NT 10.0; Win64; x64) AppleWebKit/537.36 (KHTML, like Gecko) Chrome/58.0.3029.110 Safari/537.3'\n",
        "        }\n",
        "\n",
        "        req = Request(url, headers=headers)\n",
        "        response = urlopen(req)\n",
        "        soup = BeautifulSoup(response.read(), 'html.parser')\n",
        "\n",
        "        # Extract data for each book\n",
        "        title_element = soup.find('h1', {'data-testid': 'bookTitle'})\n",
        "        title = title_element.text.strip() if title_element else \"Title not found\"\n",
        "\n",
        "        author_element = soup.find('span', {'data-testid': 'name'})\n",
        "        author = author_element.text.strip() if author_element else \"Author not found\"\n",
        "\n",
        "        rating_element = soup.find('div', {'class': 'RatingStatistics__rating'})\n",
        "        rating = rating_element.text.strip() if rating_element else \"Rating not found\"\n",
        "\n",
        "        genre_elements = soup.find_all('a', {'class': 'Button Button--tag-inline Button--small'})\n",
        "        genres = [genre.text.strip() for genre in genre_elements] if genre_elements else [\"Genre not found\"]\n",
        "\n",
        "        # Append the data to the list\n",
        "        data.append({'title': title, 'author': author, 'rating': rating, 'genres': genres})\n",
        "\n",
        "    return data\n",
        "\n",
        "# Call the function and print the result\n",
        "print(get_book_data())\n"
      ],
      "metadata": {
        "colab": {
          "base_uri": "https://localhost:8080/"
        },
        "id": "XP3gKNIWJQHw",
        "outputId": "952114d1-7a0f-484f-8b51-b3a2a3b7c62c"
      },
      "execution_count": null,
      "outputs": [
        {
          "output_type": "stream",
          "name": "stdout",
          "text": [
            "[{'title': 'To Kill a Mockingbird', 'author': 'Harper Lee', 'rating': '4.26', 'genres': ['Classics', 'Fiction', 'Historical Fiction', 'School', 'Literature', 'Young Adult', 'Historical', '1954-1969', '6-star-books', 'all-time-favorites', 'audiobook', 'cultured', 'mmix', 'simpatico', '2-star', 'adult', 'boring', 'classics', 'coming-of-age', 'favorites', '500-great-books-women', 'all-time-favorites', 'classics', 'american', 'favorites', 'fiction', '2015', '300-399-pp', 'author-american', 'era-cold-war', '2015-reads', 'awesome-kickass-heroines', 'favorites', 'owned', '2015-reviews', 'fiction', 'reviewed', 'modernclassic', 'this-book-tho', 'favorites', 'classics', 'postcolonial', 'best-reads-2023', 'classic-favourites', 'favorites', 'classics', 'have-reviewed']}, {'title': '1984', 'author': 'George Orwell', 'rating': '4.19', 'genres': ['Classics', 'Fiction', 'Science Fiction', 'Dystopia', 'Literature', 'Politics', 'Novels', 'dystopia', 'favourites', 'history', '3rd-person-limited', 'about-dystopia-or-utopia', 'experience', 'classics', 'dark-matter', 'dead-trees', 'classics', 'clothbound-own', 'dystopia-utopia', 'adapted', 'almost-fav', 'classics', '1930-1953', '6-star-books', 'all-time-favorites', '4-star-reads', 'sci-fi', 'british-literature', 'e-4', 'fantasy', 'classics', 'politik', 'society', 'favorites', 'orwell-george', 'contemporary', 'dystopia', 'reviewed', 'blog', 'book-club-made-me-do-it', 'kick-ass', '3-and-a-half-stars', 'classics', 'dystopian', '2016', 'audio', 'classic', 'classsics', '0-favorites', 'fiction-europe-british']}, {'title': 'The Lord of the Rings', 'author': 'J.R.R. Tolkien', 'rating': '4.53', 'genres': ['Fantasy', 'Classics', 'Fiction', 'Adventure', 'Science Fiction Fantasy', 'High Fantasy', 'Epic Fantasy', 'classic', 'fantasy', 'faves', 'alpha-team', 'transcendent-experiences', 'fantasy', 'tolkien-j-r-r', '5-star-reads', 'fantasy', 'tolkien', 'not-the-whole-truth', 'classics', 'english-20th-c', 'fantasy', 'fantasy', 'reviewed', 'uk-and-ireland', '5-star', 'best-book-ever', 'classics', 'fantasy', 'fantasy-and-magic', 'favorites', 'oancc-2017', 'favorites', 'owned', 'fantasy', 'favorites', '1001-books-to-read-before-you-die', 'fantasy', 'thought-provoking', '1950-59', '2017', '5-star', '2018', 'tolkien-it-up', '4-star', 'fantasy', 'z-read2015', 'classic', 'fantasy', 'jrr-tolkien', 'classics', 'fantasy']}, {'title': 'The Catcher in the Rye', 'author': 'J.D. Salinger', 'rating': '3.80', 'genres': ['Classics', 'Fiction', 'Young Adult', 'Literature', 'School', 'Coming Of Age', 'Novels', 'alpha-team', 'first-loves', 'mind-the-gap', '1930-1953', 'children-behaving-badly', 'classics', '4-stars', 'classics', 'owned', 'kids-and-young-adult', 'the-list', 'ugh', 'america', 'contemporary-fiction', 'novel', 'bad-writing', 'half-wit-characters', 'hate', 'novels', 'literary-fiction', 'philosophical-literature', 'americana', 'classics', '5-star', 'classwork', 'elle-recs-list', '2020-readings', 'e-5', 'english-editions', 'a-group-of-characters-pissed-me-off', 'bad-beginning', 'bland']}, {'title': 'The Great Gatsby', 'author': 'F. Scott Fitzgerald', 'rating': '3.93', 'genres': ['Classics', 'Fiction', 'School', 'Historical Fiction', 'Romance', 'Literature', 'Novels', '2013-reads', '2021-reads', 'i-also-saw-the-film', '3-star-reads', 'modernist-movement', '100', 'famous-books', 'favorites', 'adult', '2-and-a-half-star', 'classic', 'ebook', 'one-more-time', '2021', '20th-century', 'american-literature', 'fiction', 'americana', 'audiobook', 'audio', 'classics', 'libby-app', '1001-books', 'classics', 'lgbtq-rep', '1900-1929', 'audiobook', 'classics-americas', 'novels', 'hmmm', 're-reading', 'modernclassic', '5-stars', 'classics', 'non-ya', 'college-books', 'novels_novellas', 'the-american-dream', 'a-hundred-of-the-best-novels', '2020', 'classic', 'completist-book-club', 'class-etiquette', 'classics', 'relationships-twisted-or-sad', 'classics', 'in-my-home-library']}, {'title': 'The Lion, the Witch and the Wardrobe', 'author': 'C.S. Lewis', 'rating': '4.24', 'genres': ['Fantasy', 'Fiction', 'Young Adult', 'Childrens', 'Classics', 'Middle Grade', 'Adventure', 'best-books-for-kids', 'books-i-read-growing-up', 'books-i-would-blurb', '5-star-reads', 'children-of-all-ages', 'fantasy', 'absolute-favorites', 'audiobook', 'fantasy', 'reviewed', 'uk-and-ireland', '2019', 'fantasy', 'read-more-than-once', 'buddy-reads', 'classics', 'fantasy', '5-star', 'childrens', 'fantasy-faeries-magic', 'god-religion-faith', '4-stars', 'children-s', 'classics', '1-fiction', '3-multi-book-series', '5-favorite-books', 'childrens', 'fantasy-let-it-be-your-fantasy', 'modernclassic', 'favourites', 'owned', 'c-s-lewis', 'childhood-book', 'children-s-literature', 'magic-and-sparkles-and-shit', 'ya-ya-land', 'you-can-watch-it-on-the-telly', '2018', '2023', 'morningtime', '20th-century', '3rd-person-pov', 'adventure', 'books-i-own', 'childrens', 'fantasy-fantastic', 'inner-child', 'travel-books', 'best-worldbuilding', 'fantasy', 'made-my-childhood']}, {'title': 'Lord of the Flies', 'author': 'William Golding', 'rating': '3.69', 'genres': ['Fiction', 'Classics', 'Young Adult', 'School', 'Literature', 'Dystopia', 'Read For School', 'classics', '4-star-reads', '1001', 'british', 'short', 'classics', 'fiction', 'adventure-and-or-travel-books', 'college-books', 'dystopia', 'classics', 'facepalm-trash-bin', 'childrens', 'landscape-location-protagonist', 'miscellaneous-fiction', '1001-books-to-read-before-you-die', 'nobels', 'young-adult', 'classics', 'modernclassic', 'classics', 'in-my-home-library', '1900-1960', 'classics', 'guardian-1000', 'criminal-intent', 'favorites', 'adventure', 'audiobook', 'book-group']}, {'title': 'Animal Farm', 'author': 'George Orwell', 'rating': '3.99', 'genres': ['Classics', 'Fiction', 'Dystopia', 'Fantasy', 'School', 'Literature', 'Science Fiction', 'fiction', 'reviewed', '2008', 'classics', 'cover-love', 'audio', 'classics', 'read-in-2015', '2016', '5-star', 'adapted', 'animals', 'classics', 'animals', 'classics', 'favourites', '2020', 'classic', 'completist-book-club', '4-stars', 'classics', 'non-ya', '2-star-reads', 'modernist-movement', 'classics', 'dystopia', 'fantasy', 'novels_novellas', 'favourites', 'classics', 'orwell-george', '1001', 'dystopia', 'short']}, {'title': 'Catch-22', 'author': 'Joseph Heller', 'rating': '3.99', 'genres': ['Fiction', 'Historical Fiction', 'Classics', 'War', 'Humor', 'Literature', 'Novels', 'folio-society-wishlist', 'books-i-just-couldnt-finish', 'lost-lit', '1954-1969', '6-star-books', 'all-time-favorites', 'american-20th-c', 'classics', 'fiction', '2018', 'audio', 'classic', '20th-century', 'read-in-2015', 'americana', 'a-hundred-of-the-best-novels', '1001-books-to-read-before-you-die', 'favorites', 'havanas-en-masse', 'adventure', 'classics', 'favorites', 'ha-ha-humour', 'modernclassic', 'classic', 'humour', 'audio', 'classics', 'humor', '2012', 'for-kindle', 'reviewed', '1001', 'classics', 'us', 'readandreviewed']}, {'title': 'The Grapes of Wrath', 'author': 'John Steinbeck', 'rating': '4.01', 'genres': ['Classics', 'Fiction', 'Historical Fiction', 'Literature', 'Novels', 'School', 'American', '2012', 'classics', 'favorites', '30s-forever-more-1930s-titles', 'book-club', 'california-dreaming', 'best-historical-fiction', 'best-reads-2022', '1001-books-to-read-before-you-die', 'favorites', 'nobels', 'e-5', 'john-steinbeck', 'classic-novels', 'great-depression', '2012', 'for-kindle', 'reviewed', '5-star-reads', 'modernist-movement', '1400', 'john-steinbeck', 'nonfiction', 'classics', 'non-ya', 'nonfiction', 'american-literature', '2022-reads', 'american-west-coast', 'classics', 'classics', 'fiction', 'historical-fiction', 'classics', 'gifted']}, {'title': 'Gone with the Wind', 'author': 'Margaret Mitchell', 'rating': '4.31', 'genres': ['Historical Fiction', 'Fiction', 'Romance', 'Classics', 'Historical', 'Literature', 'War', '2017', 'book-club', 'character', 'classics', '2018', 'classic', 'completist-book-club', 'novels', 'favorites', '500-great-books-women', 'classics', 'historical-fiction', 'historic-fiction', 'the-list', 'all-time-favorites', 'authors-m', 'epic', 'american-civil-war', 'classic-novels', 'historical-fiction', 'favorites', 'favorites-fiction', 'own', '1930s', 'award-national-book', 'award-pulitzer-prize', 'american-20th-c', 'american-civil-war', 'classics', 'literature', '2012-reads', 'classics', 'favorites', 'historical', 'romance', 'war', '1900-1960', 'classics', 'favorites', 'romance', '5-star', 'anti-feminist', 'classic', '2018', 'clásicos-modernos']}, {'title': 'Slaughterhouse-Five', 'author': 'Kurt Vonnegut Jr.', 'rating': '4.10', 'genres': ['Fiction', 'Science Fiction', 'Classics', 'Historical Fiction', 'War', 'Literature', 'Novels', 'historical-fiction', 'modern-fiction', 'north-american', 'apocalypse', 'classic', 'literature', 'favorites', 'lit', 're-read', '5-stars', 'classics', 'favorites-2023', '5-star-reads', 'reviewed-for-fantasy-book-review', 'sci-fi', 'a-hundred-of-the-best-novels', 'author-author', 'classics', 'desert-island-books', 'favorites', '2011-reads', '2022-reads', 'favorites', 'funny-funsome-sarcasome', 'its-not-you-its-meta-or-gfhrytyt', 'my-2-cents', 'favourites', 'favorites', 'read-in-english', 'american', '1001', 'classics', 'fantasy-sf', 'داستان-خارجی', 'علمی-تخیلی', 'کتاب-صوتی', '100-mccaffery', '100-modern-library', '1001-ante-mortem', 'favorites', 'my-reviews', 'out-of-the-box-reviews', 'scifi-future-speculative-fict', 'time-travel', 'usa-and-canada', 'sci-fi', '2008', 'history', 'not-worth-it', '2009', 'modernclassic', 'sci-fi-beam-me-up']}, {'title': 'One Flew Over the Cuckoo’s Nest', 'author': 'Ken Kesey', 'rating': '4.20', 'genres': ['Fiction', 'Classics', 'Psychology', 'Literature', 'Novels', 'Mental Health', 'School', 'general-gender', 'novels', 'favorites', 'favorites', 'medicine', '1001', 'classics', 'us', '1000-before-death', '20th-cent-reads-18-books-left', 'audiobooks', 'classics', 'classics', 'creepy', 'favorites', 'literary-fiction', 'modernclassic', 'classic-novels', '60-from-the-1960s', 'books-with-birds-on-the-cover', 'debut', 'best-books-ever', 'books-loved-2014', 'fiction-20th-century', 'favorites', 'liburry-book', 'read-2015', 'fiction', 'read-in-english', 'credshelf', '1001-core', 'hospital-drama', 'time-100', '1001-books-to-read-before-you-die', 'unforgettable', 'seen-movie', 'usa', 'not-the-whole-truth', '2019-books', 'buddy-reads', 'contemporary', '1001-before-you-die', '2018', 'american']}, {'title': 'A Clockwork Orange', 'author': 'Anthony Burgess', 'rating': '4.00', 'genres': ['Classics', 'Fiction', 'Science Fiction', 'Dystopia', 'Horror', 'Literature', 'Novels', 'classics', 'dystopian-apocalyptic', 'film-good-or-better-than-book', 'british', 'crime', 'dystopia', 'classics', '3-stars', 'classics', 'dystopian', 'novels', '3-star-reads', 'dystopian', 'english-20th-c', 'fiction', 'classics', 'dystopian', 'favorites', 'favorites', 'recent', 'audio', 'classics', 'dystopian', '2023', 'dystopian', 'horror', '2021-readings', 'british-literature', 'e-3', 'classics', 'crime', 'favorites', 'british', 'classic', 'literature', '1001', 'british', 'classics', '1001-books-to-read-before-you-die', 'classic-literature', 'dystopian', 'favourites', 'favorites', 'novels', 'penguin-classics', 'sassysassenachs', 'modernclassic', 'spec-fi-i-guess', '2013', 'at-home-reading', 'classic', 'classics', 'cultural-england', 'dark', 'classics', 'favourites', 'end-of-world-dystopian-apocalyptic']}, {'title': 'Lolita', 'author': 'Vladimir Nabokov', 'rating': '3.88', 'genres': ['Fiction', 'Classics', 'Literature', 'Russia', 'Novels', 'Romance', 'Russian Literature', 'nabokov', 'read-2011', 'reviews', '5-stars', 'classics', 'clothbound-own', '1001', '2012', 'classics', '4-stars', 'beautifully-written', 'classics', '5-star-reads', 'classics', 'novels', 'american-20th-c', 'classics', 'favorites', '5q', 'novels_novellas', 'shit', '5-star', 'classwork', 'literary-fiction', 'a-hundred-of-the-best-novels', 'reviewed', 'russia', 'e', 'novels', 'russian', 'favorites', 'reviewed', 'love_or_lust', 'ny_times_100_greatest_novels', 'perfection', 'best', 'μεθεξη', 'older-men-younger-women', 'too-sexy-for-maiden-aunts', 'e-4', 'nabokov', 'russian-literature']}, {'title': 'Are You There God? It’s Me, Margaret', 'author': 'Judy Blume', 'rating': '3.94', 'genres': ['Young Adult', 'Fiction', 'Childrens', 'Classics', 'Middle Grade', 'Coming Of Age', 'Realistic Fiction', 'once-upon-a-time', '2020', 'classic', 'completist-book-club', '70s-forever-more-1970s-titles', 'books-that-made-me-think-about-dad', 'coming-of-age', '2022-challenge-childhood-re-reads', 'my-childhood-favourites', 'chick-lit', 'time-100', 'ya', '2023-reads', '2017', 'to-throw-from-a-high-building', 'young-adult-fiction', '2018', 'childrens-fiction', 'old-favorites', 'adorkable', 'becoming-groweds-up', 'favorites', 'classics', 'middle-grade', '1970-1974', 'award-various', 'bage-middle-grade', 'children-s-classics', 'childhood-favorites', 'book-reviews', 'childrens-literature', 'judy-blume', '2023-shelf', 'buddy-reads-with-my-girl', 'ya', 'audio-books', 'completed-library-rentals', 'jane-made-me-do-it']}, {'title': 'Watchmen', 'author': 'Alan Moore', 'rating': '4.38', 'genres': ['Graphic Novels', 'Fiction', 'Science Fiction', 'Fantasy', 'Graphic Novels Comics', 'Classics', 'Comic Book', 'capes', 'comics', 'reviewed', '400-499-pp', 'author-british', 'comic-book-limited-series', 'classics', 'coronavirus-read', 'graphic-novels', 'graphic-novels', 'moore-alan', 'all-time-favorites-fiction', '5-star-reads', 'comic-graphic-novel', 'graphic-novels', 'faves', 'graphic-novels', 'boring-as-hell', 'comix-graphix', 'dnf', 'dysto-teque', 'youre-a-graphic-novel', 'dystopian', 'graphic-novel', 'political', 'graphic-novel', 'english-20th-c', 'favorites', 'graphic-novels', '2018', '2018-comics', 'comics', 'classics', 'comics', 'graphic-novels', '2020', 'trade-paperback', 'dc-comics', 'favorites', 'owned', 'favorites', 'comic-book', 'detective', 'dystopia', 'alan-moore', '100', '2019-reread', 'alt-history']}, {'title': 'Atonement', 'author': 'Ian McEwan', 'rating': '3.94', 'genres': ['Fiction', 'Historical Fiction', 'Classics', 'Romance', 'Historical', 'War', 'Literary Fiction', 'if-research-were-romance', 'too-sexy-for-maiden-aunts', 'favorites', 'fiction', 'best-reads-2023', 'favorites', '2017', 'bloody-cack', 'bookshelf', 'favorites-of-all-times', 'historical-fiction', 'read-years-ago', 'coming-of-age', 'family-dynamics', 'human-emotions', 'fiction', 'historical-fiction', 'audiobooks', 'british-charm', 'favorites', 'british', 'family-drama', 'favourites', '2016', 'completist-book-club', 'favorites', 'desert-island', 'favorites', 'historical', 'cafeteria-isla-perdida-3', 'favorites', 'perfect-ending', 'favorites', 'maybe-future-re-read', 'the-british-invasion', 'war-is-hell', 'contemporary-fiction', '21st-century', 'booker', 'contemporary-british-fiction', '21st-century', 'british-literature', 'historical-fiction', 'historical-fict-20th-cent', 'miscellaneous-fiction', 'unreliable-narrators']}, {'title': 'Things Fall Apart', 'author': 'Chinua Achebe', 'rating': '3.73', 'genres': ['Fiction', 'Classics', 'Historical Fiction', 'Africa', 'School', 'Literature', 'Nigeria', '1001-books-to-read-before-you-die', 'favorites', 'so-good-it-hurts', 'african-lit', '1001', 'classics', 'nigeria', 'africa', 'african-authors', 'anthropology', '4-star-reads', 'contemporary-lit', 'postcolonial', 'classics', 'africa', 'nigeria', 'africa', 'contemporary-fiction', 'novel', '4-stars', 'authors-of-color', 'classics', '20th-century', 'read-in-2014', '0-favorites', '6-reread', 'fiction-africa', '2020', 'africana', 'novels-novellas-short-stories', 'african-novels', '2017', 'classic', 'completist-book-club', 'uni', 'audible', 'author-male', 'book-club-boxall-1001', '2019', 'from-library', 'pc-100-essential-read', 'african-writers', 'black-writers', 'أدب-مترجم', 'african-lit', 'fiction', 'nigerian-20th-c', '2016-book-challenge', 'africa', 'guardian-1000']}, {'title': 'Never Let Me Go', 'author': 'Kazuo Ishiguro', 'rating': '3.85', 'genres': ['Fiction', 'Science Fiction', 'Dystopia', 'Contemporary', 'Literary Fiction', 'Romance', 'Classics', '1001', '2010', 'contemporary', 'literature', 'science-fiction', 'the-list', 'ugh', 'read-in-2007', 'favorites', '2008', 'alternate-history', 'book-club', 'ishiguro', 'read-2011', 'reviews', 'british-authors', 'dystopian', 'science-fiction', 'booker-prize', 'books-i-own', 'classics', '2-star-reads', 'contemporary-lit', 'sci-fi', '2-stars', 'authors-of-color', 'eh', 'bookclub', 'fiction', 'in-my-home-library', 'fantasy-horror-scifi', 'fiction', 'novel', 'abandoned', 'contemporary-fantasy', 'don-t-feel-u-have-to-like-it', 'fiction', 'novel', 'romance', 'medicine', 'all-time-favorites', 'status-borrowed', '1001', 'british', 'favorites', 'bildungsroman', 'dystopian-apocalyptic', 'film-good-or-better-than-book', 'cover-love', 'feel-this', 'on-screen', 'favorites', 'owned', '1001-books-to-read-before-you-die', 'favorites', 'nobels']}, {'title': 'Invisible Man', 'author': 'Ralph Ellison', 'rating': '3.91', 'genres': ['Classics', 'Fiction', 'Literature', 'Historical Fiction', 'Race', 'African American', 'Novels', '4-stars', 'authors-of-color', 'classics', 'american-lit', 'classics', 'favorites', '5-star-reads', 'postcolonial', '1001', 'classics', 'us', '1001-books-to-read-before-you-die', 'favorites', 'afro-american', 'fav-authors', 'fiction', '2020', 'audible', 'book-a-book-club', 'african-american-lit', 'american-20th-c', 'classics', 'audiobooks', 'classics', 'racism', 'novels', 'african-american', 'classics', 'southern', 'chunkster', 'classics', 'cultural-african-american', 're-reads', 'afro-american', 'american-literature', 'black-discrimination', '100-mccaffery', '100-modern-library', '1001-ante-mortem', 'group-reads', 'history-historical', 'read-in-2016', 'favorites', 'modernism-and-post-modernism-stuff', 'american-novels', '2021-authors-of-color', 'aoc', 'classics', 'fiction']}, {'title': 'Mrs. Dalloway', 'author': 'Virginia Woolf', 'rating': '3.79', 'genres': ['Classics', 'Fiction', 'Literature', 'Novels', 'Feminism', 'British Literature', 'Literary Fiction', 'author-author', 'brits', 'classics', '2012', 'for-kindle', 'reviewed', '4-stars', 'classics', 'non-ya', 'favorites', 'classics', 'fiction', 'tbw', 'death', 'europe', 'the_perfect_sentence', '1-star-reads', 'classics', 'modernist-movement', 'british-authors', 'classic', 'life-in-a-day', '2009', 'e-5', 'female-writers', 'virginia-woolf', 'novels', '2017', 'audio', 'classic', 'faves', 'london', '20-from-the-1920s', 'favorite-books', 'i-ll-never-be-the-same', 'dnf', 'ugh-make-it-stop', 'brittish-lit', 'favorite-classic', 'my-library', 'favorites', 'book-i-own', 'classics-shelf', 'winter-mini-challenge-2015-2016', 'classics', '1001-before-you-die', '2015', 'english', 'british-literature', 'literary-fiction', 'modernclassic', 'novel-long-story', 'recs']}, {'title': 'Beloved', 'author': 'Toni Morrison', 'rating': '3.95', 'genres': ['Fiction', 'Classics', 'Historical Fiction', 'Magical Realism', 'Literature', 'Historical', 'School', 'crazy-ladies', 'crime-and-punishment', 'kind-of-depressing', 'bygones-are-never-bygones', 'cherished', 'in-by-about-america', '5-stars', 'authors-of-color', 'classics', 'contemp-classics', 'favorites', 'guardian-1000', 'important', '1001-books-to-read-before-you-die', 'favorites', 'nobels', 'all-time-favorites-fiction', 'favorites', 'contemporary-american-fiction', 'faves', 'pulitzer', 'african-american-lit', 'american-20th-c', 'favorites', '3-star-reads', 'darkness-horror-gothic', 'historical', 'school', 'not-worthwhile', 'death-grief-bereavement-mortality', 'ghosts-and-mysteries', 'landscape-location-protagonist', 'black-writers', 'dark-odd-or-mind-bending', 'historical-background', 'intimate-fiction', 'bitch-please', 'best-ever', 'read-in-2013', 'i-read-banned-books', 'liburrrrrry-book', 'oprah-told-me-to', 'americana', 'big-books', 'donne', 'african-american', 'gifts']}, {'title': 'On the Road', 'author': 'Jack Kerouac', 'rating': '3.61', 'genres': ['Fiction', 'Travel', 'Literature', 'Classics', 'Novels', 'American', 'Adventure', 'bad-reads', 'dicklits', 'fiction', 'reviews', '1001-and-more', 'in-by-about-america', 'loathed-this-book', 'american-20th-c', 'beat-lit', 'favorites', 'a-hundred-of-the-best-novels', '1900-1969', 'prose', 'modernclassic', 'memoir-biography', 'autobios-and-memoirs', 'awful-male-characters', 'classics', '2017-reads', 'classics', 'books-everyone-loves-but-me', 'americana', 'americana', 'classics', 'favorites', 'pop-culture', '2017', 'audio', 'classic', 'autobiographical-novels', 'novels', 'adventure', 'e-3', 'kerouac', 'american', 'classics', 'movie-fodder', 'beats', 'fiction-20th-century', 'fifties']}, {'title': 'The Sun Also Rises', 'author': 'Ernest Hemingway', 'rating': '3.79', 'genres': ['Classics', 'Fiction', 'Literature', 'Novels', 'Historical Fiction', 'American', 'Spain', 'classic-novels', '2013', 'classics', 'lots-of-drinking', '2011', 'american-lit', 'classics', '2015', 'dick-lit', 'favorite-reviews', 'fiction', 'blog', 'kick-ass', 'classics', 'in-my-home-library', '20-ce', 'fiction', 'us', 'classic', 'faves', 'the-best', '100', 'famous-books', 'bookriot-read-harder-challenge-2018', 'littry-fiction', '4-and-a-half-stars', 'classics', 'non-ya', '1001-books-to-read-before-you-die', 'favorites', 'nobels', 'classics', 'fiction', 'on-my-bookshelf', 'e-4', 'hemingway', 'historical-fiction', 'overrated', 'america-canada', 'classic-literature', 'fiction-20th-century', 'american-20th-c', 'classics', 'favorites', 'classic', 'completist-book-club', 'general-fiction', 'american-lit', 'my-library', 'i-said']}, {'title': 'The Big Sleep', 'author': 'Raymond Chandler', 'rating': '3.95', 'genres': ['Mystery', 'Fiction', 'Classics', 'Crime', 'Noir', 'Detective', 'Mystery Thriller', 'sentimental-faves', 'detective-mystery', 'assigned-reading', 'detective-fiction', 'the-list', 'detective', 'novel', 'romance', 'crime', 'literature', 'classics', 'mystery', '1001', 'courses_secrets-of-great-mysteries', 'mystery', '30s-forever-more-1930s-titles', 'buddy-reads', 'california-dreaming', 'classic-novels', 'crime', 'mystery', '100', '2011-r', 'crime-mystery', '2019', 'classic', 'completist-book-club', 'americana', 'noir', '2012', 'crime-and-mystery', 'favorites', 'crime-fiction', 'raymond-chandler', 'best-books-ever', 'mystery-detective-thriller', 'noir-hardboiled', 'crime', 'ebooks', 'hardboiled-and-noir', 'top-shelf', 'audio', 'crime', 'libby-app', 'crime-grime', 'novels', '20-ce', 'fiction', 'us', 'favorites', 'fiction']}, {'title': 'Possession', 'author': 'A.S. Byatt', 'rating': '3.89', 'genres': ['Fiction', 'Historical Fiction', 'Romance', 'Classics', 'Mystery', 'Literary Fiction', 'Historical', '21st-century', 'brit-lit', 'favorites', 'brittany', 'england', 'fiction', 'bookers', 'novels', '1001-books-to-read-before-you-die', 'man-booker', 'best-ever', 'dost', 'read-in-2015', 'five-stars-books', '5-star-books', 'booker-prize', 'guardian-1000', 'biog-and-autobiog', 'epistolary-and-letters', 'historical-fict-20th-cent', 'historical-fiction', 'literary-fiction', '1001', 'booker', 'british', 'owned', 'curse-my-small-brain', 'dnf-abandoned-goodbye', 'drank-the-haterade', 'english-literature', 'nineteenth-century', 'postmodernism', 'british-literature', 'favorites', 'historical-fiction', '1001-books', 'academia', 'books-about-books', '1950-1999', 'in-english', 'asbyatt', 'lgbtqia', 'literature-english', 'why-not-call-it-poetry', 'alltime100novel', 'audio', 'litfic', 're-read', 'owned-books', 'to-read-in-2016', 'disheartening', '2022-reads', 'british', 'chunksters']}, {'title': 'A Passage to India', 'author': 'E.M. Forster', 'rating': '3.68', 'genres': ['Classics', 'Fiction', 'India', 'Historical Fiction', 'Literature', 'Novels', 'British Literature', 'historical-fiction', 'modernclassic', '1001-and-more', 'adoration', 'britain', '2-star-reads', 'modernist-movement', 'postcolonial', '20-ce', 'fiction', 'uk', 'brittish-lit', 'my-library', 'india', 'novels', '20-from-the-1920s', 'caves', 'india-ink', '20th-century', 'british-and-irish-isles', 'india', '2020', 'classic', 'completist-book-club', 'colonialism', 'fiction', 'india', 'forster', 'fiction', 'seen-as-movies', '1001-books', 'bookcrossing-books', 'epic-snooze-fest', 'classics', 'cultural-shock', 'movie-fodder', 'british-author', 'british-literature', 'classics', '2017-read', 'audible-uk', 'classics', '3-stars', 'classics', 'non-ya', '2018-shelf', 'traditional-fiction', '4-star', 'fiction', 'historical-fiction', 'buddy-read-jean', 'buddy-read-susan', 'classics', 'classics', 'historical-fiction', 'i-have-a-physical-copy']}, {'title': 'I, Claudius', 'author': 'Robert Graves', 'rating': '4.24', 'genres': ['Historical Fiction', 'Fiction', 'Classics', 'Historical', 'Literature', 'Novels', 'Italy', 'historical_fiction', 'rome', 'times-100-best', '100', 'famous-books', 'historical-fiction', 'novels', 'have-on-my-bookshelf', 'classics', 'english-20th-c', 'historical-fiction', 'r-graves', '20th-century', 'historical-fiction', 'novel', '2020', 'classical', 'fiction-english', '2021', 'audible', 'audio', 'favorites', 'r-r-rs', 'favorite-books', 'historical-fiction', 'roma-spqr', '2022', 'classics', 'historical', 'history-and-biography', 'too-sexy-for-maiden-aunts', 'classic-literature', 'great-britain', 'historical-fiction', 'classica', 'storica', '2015', 'novel-a-biography', 'poison', '4-star', 'r-2013', 'r-goodreads', 'historical-fiction', 'favorites', 'five-stars', 'owned', 'historical']}, {'title': 'Their Eyes Were Watching God', 'author': 'Zora Neale Hurston', 'rating': '3.98', 'genres': ['Classics', 'Fiction', 'Historical Fiction', 'School', 'African American', 'Literature', 'Feminism', 'african-american-lit', 'american-20th-c', 'favorites', '2019', 'classics', 'a-z-challenge', 'black', 'books-i-want-to-read-again', 'us', 'w-the-european-novel', 'southern', 'authors-of-color', 'beautifully-written', 'classics', 'favorites', 'favourites', '2017', 'american', 'literary-fiction', '1001-and-more', 'adoration', 'by-women-who-matter', 'recs', 'as-per-lisas-intriguing-review', 'black-american', 'gentle-humour', 'master-s-exam', 'teach-it', '1001-books-to-read-before-you-die', 'persuasive', 'so-good-it-hurts', 'classics', 'favorites-2021', 'favorites-all-time', '2018', 'audio', 'classic', 'blog', 'kick-ass', 'collegereadinglist1994-1998', 'dost', 'read-in-2014']}, {'title': 'The Sound and the Fury', 'author': 'William Faulkner', 'rating': '3.85', 'genres': ['Classics', 'Fiction', 'Literature', 'Novels', 'American', 'Southern Gothic', '20th Century', '1900-1929', 'audiobook', 'classics-americas', '2009', 'favorites', '5-star', 'cross-my-heart-and-hope-to-die', 'nobel-prize-people', 'novels', 'a-hundred-of-the-best-novels', 'bingo-2016', 'classics', 'historical-fiction', 'pulitzer', 'favorites', 'america-canada', 'classic-literature', 'nobel-laureates', 'e-5', 'us-literature', 'william-faulkner', '1001', 'classics', 'stream-of-consciousness', '2019', 'classic', 'completist-book-club', 'american-literature', 'classics-of-the-world-literature', 'novel-long-story', 'novels_novellas', 'family-dynamics', 'gritty-realism', 'human-emotions', 'started-it-hated-it', 'credshelf', 'gothique-ou-du-sud', 'mina-favoritböcker', '20th-century-literature', 'favorites', 'nobel-winners']}, {'title': 'All the King’s Men', 'author': 'Robert Penn Warren', 'rating': '4.09', 'genres': ['Fiction', 'Classics', 'Historical Fiction', 'Politics', 'Literature', 'Novels', 'Literary Fiction', 'classic-novels', 'politics', 'southern', 'literary-novels', 'american-20th-c', 'fiction', 'listened-as-audiobook', 'american-south', 'historical-fiction', 'political-history', '1930s', '2012', '20th-century', '100-time', '2020-καλυτερα', 'favorites', 'favourites', '20th-century-literature', 'american', 'american-classics', '100', '2011', 'famous-books', 'gothique-ou-du-sud', 'classics', 'political-fiction', 'classics', 'southern', 'masterpieces', 'americana', 'beach-mixed', 'classics', '20th-century', 'american-literature', 'fiction', '2022-reads', '5-stars', 'chunksters', 'fiction-general', '2009-reads', 'bookclub-books', 'fiction-literature', 'audio']}, {'title': 'The Blind Assassin', 'author': 'Margaret Atwood', 'rating': '3.96', 'genres': ['Fiction', 'Historical Fiction', 'Mystery', 'Literary Fiction', 'Canada', 'Classics', 'Contemporary', 'george-and-his-girlfriend', 'not-the-whole-truth', 'older-men-younger-women', '1001', '2011', 'booker', 'crime-detective-mystery', 'favourites', 'historical-fict-20th-cent', 'alpha-team', 'into-the-past', 'mnemonic-devices', 'historical-fiction', 'literary-fiction', 'booker-prize', 'oh-canada', 'canadian', 'age-ing', 'beautiful-poetic', 'brilliant', 'booker-winners', 'favourites', 'mm2019', 'gr-friends-recommend', 'my-reviews-that-dont-suck', 'own', 'book-i-own', 'historical-fiction', 'mystery-crime', 'booker-winners', 'canadian', 'guardian-1000', 'read-in-2008', '3-star-reads', 'contemporary-lit', 'man-booker-prize-winners', '5-stars', 'atwood', 'romance', 'psychological-drama', 'romantic-mystery', 'womens-lives', 'historical-fiction', 'lit-canadian', 'postmodern-lit', '2000-09', '2020', '4-star', 'book-club', 'buddy-reads', 'favorite-books', 'owned', '2020', '20th-century', 'canada', 'novel', 'favorites', 'reviewed', 'book-group', 'to-re-read', '1001-ante-mortem', '2011', 'aere-perennius']}, {'title': 'Native Son', 'author': 'Richard Wright', 'rating': '4.03', 'genres': ['Fiction', 'Classics', 'Historical Fiction', 'African American', 'Race', 'Literature', 'Novels', '2022', 'classics', '2018', 'audio', 'classic', 'african-american', 'afrocentric', 'american-lit', 'civil-rights', 'classic-novels', 'crime', 'bygones-are-never-bygones', 'cherished', 'crime-noir', 'african-american', 'chicago-setting', 'classics', 'aoc', 'aoc-male', 'audible', '5-star', 'antidote-think-twice-all', 'antidote-think-twice-read', '2020', 'afrocentric', 'black-authors', 'classics', '1001', '1001-read', 'african-american', 'african-american-writers', 'favorites', 'five-stars', 'داستان-و-رمان', 'classic', 'general-fiction', 'historical-fiction', 'americana', 'fiction', 'novel', 'reviewed', 'the-best', 'the-best-classics', '2021-authors-of-color', 'aoc', 'novel', 'adult-fiction', 'historical-fiction', 'read-for-college', 'classics', 'crime', 'cultural-studies']}, {'title': 'Ragtime', 'author': 'E.L. Doctorow', 'rating': '3.89', 'genres': ['Fiction', 'Historical Fiction', 'Classics', 'Novels', 'Literature', 'Historical', 'American', 'american', 'jewish', 'new-york-city', 'favorites', 'novels', 'داستان-خارجی', 'محبوب-ها', '2016', 'favorites', '100-modern-library', '2014', 'el-doctorow', 'historical-fiction', 'historical-fiction', 'امریکا', 'ای-ال-دکتروف', '2023', 'from-library', 'pc-100-essential-read', 'american', 'historical', 'own-a-copy', '5-stelle', 'americana', 'classica', 'historical', '2013', 'own-a-copy', 'reviewed', '2020', 'classy', 'linz', '20th-century', 'novel', 'usa', 'historical-fiction']}, {'title': 'Light in August', 'author': 'William Faulkner', 'rating': '3.94', 'genres': ['Fiction', 'Literature', 'Classics', 'Novels', 'American', 'Southern Gothic', 'Southern', '20-ce', 'fiction', 'us', '20th-century', 'child-abuse', 'death', 'american-south', 'chunksters', 'classics-shelf', 'novels', 'e-5', 'us-literature', 'william-faulkner', 'classics-literay-fiction', 'read-2016', 'stars-5', 'american-20th-c', 'classics', 'favorites', 'adoration', 'cherished', 'christianity', 'novels', 'reviewing-commentary', 'favorites', 'america-canada', 'classic-literature', 'fiction', 'w-faulkner', 'clasicos', 'drama', 'american-southern', 'faulkner', 'favorite-authors', 'all-time-favourites', 'audiobook', 'origin-american', 'novel-long-story', 'august', 'southern-lit', 'fiction', 'favoriler', 'american-literature', 'american-south', 'racism']}, {'title': 'To the Lighthouse', 'author': 'Virginia Woolf', 'rating': '3.80', 'genres': ['Classics', 'Fiction', 'Literature', 'Novels', 'Feminism', '20th Century', 'Literary Fiction', 'death', 'europe', 'favorites', 'everything-everything-everything', 'obras-maestras', 'ocean-of-noise', 'british-authors', 'favorite-books', '1001', 'british', 'classics', 'novels', 'classics', 'a-hundred-of-the-best-novels', '2020', 'audio', 'classic', '4-and-a-half-stars', 'classics', 'non-ya', '1001-books-to-read-before-you-die', 'favorites', 'should-have-been-a-nobel', 'brits', 'classics', 'virginia-woolf', 'woolf-and-related', 'woolf-reviews', '3-star-reads', 'modernist-movement', 'classics', 'faves', 'littry-fiction', 'book-i-own', 'classics-shelf', '2014', 'recs', 'classics-i-ve-read', 'favorites', 'brittish-lit', 'favorite-classic', 'my-library', 'classic-literature', 'great-britain', '2019', 'clásicos-modernos', '1001-and-more', '500gbbw', 'adoration', 'fiction-general', 'e-5', 'female-writers', 'virginia-woolf', 'best', 'dante-deo', 'humming-closer-no-hesitation-give-m']}, {'title': 'The French Lieutenant’s Woman', 'author': 'John Fowles', 'rating': '3.88', 'genres': ['Fiction', 'Classics', 'Historical Fiction', 'Romance', 'Historical', 'Literature', 'British Literature', '100', 'famous-books', 'over-there', 'classic-literature', 'great-britain', 'historical-fiction', '20th-century-postwar-to-late', 'brit-lit', 'fiction', '100-mccaffery', '2013', 'aere-perennius', 'ingiliz-edebiyati', 'humming-closer-no-hesitation-give-m', 'have-on-my-bookshelf', 'all-time-favourites-for-shelf', '1950-1999', 'historical', 'in-english', '1001-list-2006-ed', '20th-century', 'lit-british', 'fowles', 're-read', 'read-2020', 'england', 'favorites', 'historical', '2023', '1001-libros-que-hay-que-leer', 'classics', '2018', '20th-century', 'british-literatur', 'british-writer', 'english-literature', 'feminin-condition', 'feminism', '3-stars-and-a-half', 'england', 'historical-fiction', 'literature']}, {'title': 'The Spy Who Came In from the Cold', 'author': 'John le Carré', 'rating': '4.08', 'genres': ['Fiction', 'Thriller', 'Mystery', 'Espionage', 'Classics', 'Mystery Thriller', 'Novels', 'spies-intrigue', 'book-to-film', 'spies', '1001', 'berlin', 'british', 'espionage', 'favorites', 'kindle-book-i-own', 'classic', 'dagger-award', 'e-audio', 'classics', 'english-20th-c', 'favorites', 'owned', 'xx2017-completed', 'cold-war', 'england', 'spy-espionage', 'mystery-thriller', 'fiction', 'great-britain', 'novels', 'thriller-crime', 'war', '2017', 'completist-book-club', 'kindle', 'the-list', '100', 'famous-books', 'spy-vs-spy', '1954-1969', 'audiobook', 'need-to-buy', '2011', '2021', 'classics', 'audiobooks', 'mysteries-thrillers', '1001-books', '2014', 'john-le-carré', '4-and-half-to-5-stars-stellar', 'thriller-or-suspense', 'extraordinary-books']}, {'title': 'The Heart Is a Lonely Hunter', 'author': 'Carson McCullers', 'rating': '3.99', 'genres': ['Fiction', 'Classics', 'Literature', 'Novels', 'Historical Fiction', 'Southern Gothic', 'Literary Fiction', 'literature', 'my-reviews-that-dont-suck', 'own', 'read-in-2012', 'favorites', 'so-good-it-hurts', 'unforgettable', 'novels', 'best-reads-2023', 'favourites-modern-classics', 'vintage-classics', 'classic', 'i-said', 'lets-get-real', 'paperwhite', 'american', 'classics', 'historical', 'coming-of-age', 'debut', 'friendships', '2012', '20th-century', 'coming-of-age', 'classics', 'coming-of-age', 'feminism', 'fav', 'classics', 'favourites', 'historical-fict-20th-cent', 'favorites', 'feminist-slash-gender', 'glbt-and-gender', '2019', 'american', 'debut', 'current-lit-us', 'bookgroup', 'carsonmccullers', 'reread', 'america-canada', 'fiction', '2019', 'recs', '1001-and-more', 'adoration', 'by-women-who-matter', '20-ce', 'fiction', 'us', 'american-20th-c', 'fiction', 'novels', 'read-in-2013', 'favorites', 'literary-fiction', 'americana', 'classics', 'existenialism-wide']}, {'title': 'Blood Meridian, or, the Evening Redness in the West', 'author': 'Cormac McCarthy', 'rating': '4.16', 'genres': ['Fiction', 'Historical Fiction', 'Westerns', 'Classics', 'Literature', 'Horror', 'Novels', 'blood-meridian', 'lit', 're-read-lit', '1980-1989', '6-star-books', 'all-time-favorites', '2023', 'historical', 'american-21st-c', 'classics', 'favorites', 'favorites', 'the-pit-of-hell', 'literature', 'mttbr-2012', 'usa', '1001-and-more', 'adoration', 'bygones-are-never-bygones', 'modern-western', 'novels', 'dark', 'favorite-author', 'gritty', 'favorites', 'historical-fiction', 'native-americans', 'historical-fiction', 'literary-fiction', 'netgalley', 'lyrical-prose', 'western', '1001-before-you-die', '2020', 'american', 'chilling', 'classic', 'dangerous-writing', 'americana', 'western', 'best', 'humming-closer-no-hesitation-give-m', 'θα-σεβεστε', 'american', '2012', 'homework-from-the-ladies', '2019', 'e-book', 'favorite-reviews', '2013', 'best-villains', 'favorite-reviews', 'cormac-mccarthy', 'goodest-reads-2009', 'literature', 'books-loved-2020', 'fiction-20th-century', 'historical-fiction']}, {'title': 'Naked Lunch', 'author': 'William S. Burroughs', 'rating': '3.46', 'genres': ['Fiction', 'Classics', 'Literature', 'Novels', 'American', 'Banned Books', 'Contemporary', 'beat-generation', 'psychodelic-surrealism', 'mind-the-gap', 'rain-man-reviews', 'unstablenarratives', 'fiction', 'speculative-fiction', 'novels', '2015-reviews', 'books-read-a-long-time-ago', 'fiction', 'audio', 'darkness', 'funny-shit', 'life-is-too-short', 'favorites', '20th-century', 'read-in-2015', '2016-shelf', 'horror', 'reality-bending', '1001-books', '20th-century', 'fiction', '1001-core', '501', 'crime', 'classics', 'library', 'non-ya', 'american-20th-c', 'beat-lit', 'fiction', 'chinese-translation', 'humor', 'mind-fuck', 'favorites', 'classics', 'drugs', 'america-canada', 'postmodern-fiction', 'satire']}, {'title': 'Brideshead Revisited', 'author': 'Evelyn Waugh', 'rating': '4.00', 'genres': ['Fiction', 'Historical Fiction', 'Classics', 'Literature', 'Novels', 'British Literature', 'LGBT', 'novels', 'e-5', 'favorites', 'current-lit-uk', 'adult', 'recommended', 'favorites', '2-star', 'dubious', 'queer-as-in', 'brittish-lit', 'my-library', 'class-etiquette', 'classics', 'film-good-or-better-than-book', 'audiobooks', 'british-charm', 'classics', 'faves', 'classics', 'non-ya', 'scribd', '1900-1960', 'classics', 'modern-library-100', 'classics', 'historical-fiction', 'not-for-me', 'audiobooks', 'hard-soft-copy', 'living-room-tbr-small-2', 'favorites', '2017', '1001-list-2006-ed', '20th-century', 'lit-british']}, {'title': 'White Noise', 'author': 'Don DeLillo', 'rating': '3.86', 'genres': ['Fiction', 'Classics', 'Literature', 'Novels', 'Literary Fiction', 'American', 'Contemporary', 'death', 'po-mo', 'society', 'post-apocalyptic-dystopia', 'intellectual-con-artist-at-work', 'read-in-2008', 'americana', 'contemporary-american-fiction', 'faves', 'novels', 'reviews', 'favorites', 'read-2016', 'read-2018', '5-f-ing-stars', 'game-changers', 'my-reviews-that-dont-suck', 'classic-novels', '100', 'famous-books', 'de-lillo-rama', 'exert-yourself', 'read-2012', 'america-canada', 'postmodern-fiction', 'satire', '2023', 'favorites', 'literary-fiction', 'obras-maestras', 'a-team-group-reads', 'favorites']}, {'title': 'Infinite Jest', 'author': 'David Foster Wallace', 'rating': '4.25', 'genres': ['Fiction', 'Classics', 'Literature', 'Novels', 'Contemporary', 'Humor', 'Literary Fiction', 'arizona', 'boston', 'fiction', 'dfw', 'favorites', 'hamletian', 'fiction', 'american-20th-c', 'american-21st-c', 'classics', 'channeling-challenge', 'favorites', 'it-is-ok-to-feel-dumb', '100', 'famous-books', 'future-is-now', 'favorites', 'dfw', 'read-2013', 'reviews', '2015', 'completist-book-club', 'humor', 'under-two-stars-books', 'abandoned', 'literary-fiction', 'new-england', 'the-1990s', 'science-fiction', 'strongly-recommended', 'too-sexy-for-maiden-aunts', 'library', 'literary-fiction', 'non-ya', 'favorites', 'read-2016', 'read-it-again', '5-star', 'books-are-the-best-invention', 'ever-on', '2010', '2020', '2023', '1001-books-list', '20th-centurylit-late', 'big-effing-books', 'favorites', 'fiction', 'favourite-books', 'i-hate-you-mommy', 'karenmademedoit', 'need-to-review']}, {'title': 'Revolutionary Road', 'author': 'Richard Yates', 'rating': '3.92', 'genres': ['Fiction', 'Classics', 'Historical Fiction', 'Novels', 'American', 'Literature', 'Literary Fiction', 'ficciones', 'favorite-books', 'all-time-favorites', 'audio', 'families', 'favorites', 'book-i-own', 'classics-shelf', 'historical-fiction', 'american', '2022', 'american', 'debut', 'sad-burbia', 'americana', 'novels', '2022', 'classics', '2019-read', 'audible-uk', 'classics', 'film-good-or-better-than-book', 'historical-fict-20th-cent', 'landscape-location-protagonist', '4-reread', 'classic-fiction', 'cultural-surveys', 'america-canada', 'fiction', 'owned', 'novels', 'classics', 'days-of-old-aka-historical-fiction']}, {'title': 'Snow Crash', 'author': 'Neal Stephenson', 'rating': '4.02', 'genres': ['Science Fiction', 'Fiction', 'Cyberpunk', 'Fantasy', 'Science Fiction Fantasy', 'Dystopia', 'Novels', '2013-reads', 'all-time-most-favorite-books', 'stephenson-neal', 'lame', '1990s', 'cyberpunk', 'dystopian', 'read-2015', 'cyberpunk', 'sf', 'two-and-a-half-stars', '2019', 'completist-book-club', 'sci-fi', 'sci-fi', 'awards-of-all-sorts', 'classic', 'my-library', '2017', 'science-fiction', 'america', 'cyberpunk', 'favorites', '6-star-books', 'all-time-favorites', 'audiobook', '100', 'cyber', 'sci-fi', 'i-gave-up', 'rain-man-reviews', 'scifi-modern', 'adultfiction', 'classics', 'sciencefiction', 'neveragain', 'scifi', 'sf-fantasy-and-other-dorky-shit', 'i-got-as-a-gift', 'science-fiction', 'fantascienza', 'letture-2022', 'stephenson', 'japanese', 'science-fiction', 'too-sexy-for-maiden-aunts', 'did-not-finish']}, {'title': 'Midnight’s Children', 'author': 'Salman Rushdie', 'rating': '3.98', 'genres': ['Fiction', 'Magical Realism', 'Classics', 'India', 'Historical Fiction', 'Fantasy', 'Literature', '5-star-reads', 'magical-realism', 'man-booker-prize-winners', 'favourites', 'human-imagery', 'indian-fiction', 'booker-winners', 'favorites', 'fiction', '1001', 'booker', 'classics', 'film-good-or-better-than-book', 'god-religion-faith', 'historical-fict-20th-cent', '1001-and-more', 'asian-literature', 'behemoth', '1001-books-to-read-before-you-die', 'favorites', 'havanas-en-masse', '1001-before-you-die', '2019', 'booker-prize-winner', 'favorites', 'best-ever', 'dost', 'read-in-2015', 'classic', 'epic-reads', 'family-drama', 'unreliable-narrator', 'india', 'modern-canon', 'z_2009-read', 'bharat', 'booker-prize', 'funny-funsome-sarcasome', 'classics-literay-fiction', 'fantasy-dystopian', 'history', 'روايات-قصص', 'brits', 'classics', 'magical-realism', '2018', 'literary-fiction', 'man-booker-winners', 'favorites', 'fiction', 'golden-years']}, {'title': 'The Prime of Miss Jean Brodie', 'author': 'Muriel Spark', 'rating': '3.71', 'genres': ['Fiction', 'Classics', 'Historical Fiction', 'Scotland', 'Novels', 'British Literature', 'Literary Fiction', 'spark-reviews', '1001-books-challenge', 'books-i-own', 'classics', 'times-100-best', 'read-in-2016', 'bildungsroman', 'class-etiquette', 'feminism-patriarchy-gender-roles', 'classics-literay-fiction', 'favorites-of-all-times', 'historical-fiction', '1001-and-more', 'britain', 'by-women-who-matter', 'inglese', '1001', 'classic', 'cultural', 'classics', 'english', 'owned', '1001-books-to-read-before-you-die', 'sparkling', '20th-century', 'british-and-irish-isles', 'fiction', 'fiction', 'great-britain', '20th-century', 'read-in-2015', '20-ce', 'candidate-to-reread', 'fiction', '1001-read', 'classics', 'literary-fiction', '5-star-fiction', 'fiction', 'modern-classics', '4-star', 'antidote-think-twice-all', 'antidote-think-twice-read', '20-century', '2019', 'britain', 'public-library', '3-english-world', 'bestest', 'list-501', 'spark', '2019']}, {'title': 'Death Comes for the Archbishop', 'author': 'Willa Cather', 'rating': '3.96', 'genres': ['Fiction', 'Classics', 'Historical Fiction', 'Literature', 'Novels', 'Religion', 'American', '5-stars', 'american', 'anglo', 'age-ing', 'beautiful-poetic', 'booker-pulitzer-nobel-material', 'classic-novels', 'historical-fiction', '20-from-the-1920s', 'buddy-reads', 'go-native', '2022', 'audible', 'audio', 'fiction', 'own', 'xx2017-completed', 'modern-classics', 'read-2018', 'audiobook', 'classics-20th-century', '2023-books', 'american-west', 'catching-up-on-classics', 'favorites', '2019-read', 'audible-uk', 'france', 'cather', 'classics', 'favorite-authors', '10-stars', '2019-books-toread', 'a-must-to-read', '2023', 'biography', 'books-on-books', 'historical-fiction', 'american-lit', 'favorites', 'literature', '3-star', 'antidote-think-twice-all', 'antidote-think-twice-read', 'classics', 'favorite-authors', 'found-community', 'female-authors', 'my-1001-books-in-progress', 'public-library']}, {'title': 'The Bridge of San Luis Rey', 'author': 'Thornton Wilder', 'rating': '3.79', 'genres': ['Fiction', 'Classics', 'Historical Fiction', 'Literature', 'Novels', 'American', 'Literary Fiction', 'classic-novels', 'american', '2019', 'e-book', 'favorite-books', '2013', 'classics', 'death', 'fiction', 'history-historical', 'alan-says-so', 'classics', 'favorites', 'fiction', '2018', 'audio', 'classic', 'fiction', 'pulitzer-w', 'dost', 'read-in-2013', 'novels', '2012', 'favorites', 'classic', 'peru', 'south-america', 'american-literature', 'providence', 'pulitzer', '100', '2011', 'famous-books', 'origin-american', 'fiction-20th-century', 'american-20th-c', 'pulitzer-fiction', 'pulitzer-winning-fiction', '2020-read', 'audible-us', 'classics']}, {'title': 'American Pastoral', 'author': 'Philip Roth', 'rating': '3.94', 'genres': ['Fiction', 'Classics', 'Literature', 'Novels', 'American', 'Literary Fiction', 'Historical Fiction', 'americana', 'american-20th-c', 'american-21st-c', 'favorites', '20-ce', 'fiction', 'us', 'pulitzer', '1001-and-more', 'adoration', 'amazing-characterization', 'books-loved-2014', 'fiction-20th-century', 'roth', '2017', '5-star', 'awards', '2017-book-challenge', '5-star-books', 'american-classics', '2018', 'audio', 'classic', '2017', 'award-winner', 'classics', '2017', 'american', 'literary-fiction', 'america-fuck-yeah', 'fictions-of-the-big-it', 'satire', 'american-literature', 'favorites-read-after-2021', 'in-italiano', 'letture-2019', 'contemporary-american-fiction', 'pulitzer', 'favorites', 'letteratura-straniera', 'usa', 'alieni', 'americana', 'big-books', 'favourites', 'favorites', 'letto', 'american-literature', 'favorites', 'terrorism']}, {'title': 'The Power and the Glory', 'author': 'Graham Greene', 'rating': '3.98', 'genres': ['Fiction', 'Classics', 'Historical Fiction', 'Literature', 'Religion', 'Novels', 'British Literature', 'british-authors', 'inglese', 'kickass', 'reviews', 'novels', 'english-novels', 'british-literature', 'e-3', 'historical-fiction', 'humming-closer-no-hesitation-give-m', 'mina-favoritböcker', 'five-star-books', 'lifetime-favorites', 'fiction', 'best-books-ever', 'fiction-20th-century', 'european-literature', 'classic-literature', 'great-britain', '1940s', '5-star-diamonds', 'classics-and-modern-classics', '2018-aty-challenge', 'classics', 'literary-fiction', 'english-literature', 'religion', 'british', 'classics', 'reread', 'english-20th-c', 'fiction', 'john_dos_passos_prize', 'graham-greene', 'literature', 'mexico', '100', '2011', 'famous-books']}, {'title': 'The Crying of Lot 49', 'author': 'Thomas Pynchon', 'rating': '3.69', 'genres': ['Fiction', 'Classics', 'Literature', 'Novels', 'American', 'Mystery', 'Literary Fiction', 'pynchon', 'read-2012', 'reviews', '1954-1969', 'audiobook', 'classics', '20th-century', 'read-in-2018', 'alpha-meta-dig-a', 'america', 'fiction', 'metafiction', 'times-100-best', 'cross-continental-book-club', 'gr-group-coreads', 'read-in-2012', '100', 'famous-books', 'american-20th-c', 'fiction', 'novels', 'echoes', 'serendipity', 'blame-jordan-if-you-like', 'parody-homage', 'pooh-dante', 'novels', 'literature', '2022', 'from-library', 'pc-100-essential-read', 'american-novels', 'library-books', 'america-canada', 'postmodern-fiction', 'satire', 'audiobooks-listened-to', 'american-literature']}, {'title': 'Portnoy’s Complaint', 'author': 'Philip Roth', 'rating': '3.71', 'genres': ['Fiction', 'Classics', 'Novels', 'Literature', 'American', 'Humor', 'Jewish', 'confused-or-informed-my-sexuality', 'fiction', 'in-my-home-library', 'contemp-classics', 'guardian-1000', 'modern-library-100', 'american-20th-c', 'american-21st-c', 'favorites', 'americana', 'e-5', 'philip-roth', '1960-69', '2019', '4-star', 'fiction-20th-century', 'roth', '2019', 'ebook', 'own-a-copy', '1001-books', 'american', 'own-a-copy', 'read-in-2020', '2016', 'american', 'literary-fiction', '2009', 'glendale-library-store', 're-read', 'amerikan', 'in-italiano', 'letture-2019', 'nord-america', '1001-list-2006-ed', '20th-century', 'lit-american']}, {'title': 'Wide Sargasso Sea', 'author': 'Jean Rhys', 'rating': '3.59', 'genres': ['Classics', 'Fiction', 'Historical Fiction', 'Literature', 'Historical', 'Feminism', 'Literary Fiction', 'too-sexy-for-maiden-aunts', '1001', '2009', 'classics', '5-star-reads', 'darkness-horror-gothic', 'love-and-romance', '2012', 'classics', 'clothbound-own', '2020-100-reviews', 'books-read-a-long-time-ago', 'caribbean', '2-and-a-half-stars', 'classics', 'eh', 'donne', 'feminism', 'letture-stregate', 'classic-favourites', 'vintage-classics', 'five-stars-books', 'e-4', 'female-writers', 'identity', 'mental-health-victorian-madness', 'miscellaneous-fiction', 'caraibica', 'inglese', 'ho-hum', 'literary-fiction', 'overrated', '2020', 'recs', 'favorites', 'general-fiction', '2017', 'classic', 'completist-book-club', 'read-in-2013', '2021', 'from-library', 'pc-100-essential-read', 'gritty-realism', 'human-cruelty', 'human-emotions', 'haunting', 'modern-classics', 'classics', 'west-indies', '2020-books', 'bookclub-2020', 'favourites']}, {'title': 'Neuromancer', 'author': 'William Gibson', 'rating': '3.90', 'genres': ['Science Fiction', 'Fiction', 'Cyberpunk', 'Classics', 'Dystopia', 'Science Fiction Fantasy', 'Fantasy', 'all-time-most-favorite-books', '2008', 'sci-fi', 'award-nominee-british-sf', 'award-nominee-campbell', 'award-nominee-hugo', 'gibson-william', 'science-fiction-old', 'america', 'cyberpunk', 'novel', 'cyberpunk', 'fiction', 'hugo-award', 'sci-fi', 'times-100-best', 'penguin-galaxy', 'sci-fi', 'sff-award-winners', 'scifi-fantasy-magicrealism', '2020', 'mass-market-paperback', 'matt-owns', 'not-finished', 'science-fiction', 'science-fiction', 'too-sexy-for-maiden-aunts', 'gibson', 'my-sci-fanta-side', 're-read', 'new-wave', 'scifi-60s-70s-80s', 'dystopia', 'scinece-fiction', 'american-20th-c', 'dystopian', 'fiction', 'fiction', 'he-says', 'science-fiction', 'ficción']}, {'title': 'Red Harvest', 'author': 'Dashiell Hammett', 'rating': '3.95', 'genres': ['Mystery', 'Fiction', 'Crime', 'Noir', 'Classics', 'Detective', 'Thriller', 'detective-mystery', 'crime-fiction', '1900-1929', 'audiobook', 'classics', '100', '2014-reread', 'crime-mystery', 'crime', 'mystery', 'noir', '5-stars', 'author-usa', 'crime-hardboiled', 'favorites', 'top-shelf', '2020', 'أدب-أمريكي', 'أدب-مترجم', 'mystery-detective-thriller', '2020', 'audible', 'audio', '2013', '100-top-crime-fiction', 'continental-op-series', 'crime-fiction-all', 'mystery-thriller', 'buddy-reads', 'classics', 'noir', 'mystery-thriller', 'black-as-night', 'hrf-keating-100', '2015', 'ebook', 'fiction', 'crime-fiction', 'fiction', 'usa', '2020', 'assholes-and-liars-everywhere-yay', 'classics', 'other-j-characters', 'other-l-fifty', 'top-bourgeau-200', 'crime', 'classics', 'dashiell-hammett', 'favorite-books', '2016', 'noir', '1001-non-core', '501', 'crime']}, {'title': 'The Corrections', 'author': 'Jonathan Franzen', 'rating': '3.83', 'genres': ['Fiction', 'Contemporary', 'Novels', 'Literary Fiction', 'Literature', 'American', 'Family', '00-old-reviews', 'fiction-and-literature', 'modern-canon', '100', 'modern-lit', 'plain-old-fiction', 'novels', 'family', 'family-dysfunction', 'fiction', '2011', 'for-kindle', 'reviewed', 'borrowed', 'fiction', 'post-2000', 'gifts', 'novel-long-story', '21st-century', 'fiction', 'owned', '2000-09', '2020', '4-star', '5-stars', 'chunkster', 'franzen', '2010', 'fiction', 'not-worth-it', 'contemporary-fiction', 'literary-fiction', 'audiobooks', 'modern-fiction', 'did-not-finish-list', 'fab-book-club-books', '2020', 'books-i-ve-read-at-least-3x', 'male-identified-authors', 'favorites', 'franzen', 're-read', 'read-2011', 'america-canada', 'fiction']}, {'title': 'Gravity’s Rainbow', 'author': 'Thomas Pynchon', 'rating': '4.00', 'genres': ['Fiction', 'Classics', 'Science Fiction', 'Literature', 'Historical Fiction', 'Novels', 'American', 'favorites', 'fiction', 'favorites', 'national_book_award', 'po-mo', 'american-20th-c', 'favorites', 'fiction', 'a-hundred-of-the-best-novels', 'too-sexy-for-maiden-aunts', 'favorites', 'infinite-books', '20th-century', 'read-in-2014', '2017-shelf', 'history', 'humor', 'exert-yourself', 'le-clair', 'pynchon', 'barrel-bottom-worst-i-have-read', 'america-canada', 'favourites', 'postmodern-fiction', '5-star', 'books-are-the-best-invention', 'ever-on', '2017', 'literary-fiction', 'favorites', 'nt', 'fiction', 'masterpieces', 'owned', 'contemporary-american-fiction', 'historical-fiction', 'london', '5-f-ing-stars', 'beach-reads', 'dark', '1001-books-to-read-before-you-die', 'monster-mash-of-a-mess', '1001-list-2006-ed', '20th-century', 'lit-american', 'e-3', '2009', '2020', 'alternate-history', 'audio', 'hospitalized-approaching-perfection']}, {'title': 'Under the Volcano', 'author': 'Malcolm Lowry', 'rating': '3.77', 'genres': ['Fiction', 'Classics', 'Literature', 'Novels', 'Historical Fiction', 'British Literature', '20th Century', 'a-hundred-of-the-best-novels', 'favourites', 'spanish-american', 'κιλίκιο-cilicium-φραγγέλιο-flagell', 'classic-literature', 'fiction', 'great-britain', 'best-books-ever', 'fiction-20th-century', 'beach-mixed', 'classics', 'have', '2019', 'around-the-world', '1001-books', '2014', 'own-a-copy', 'favourites', 'rightly-revered-ritings', '2019-read', 'uk', 'classics', 'favourites', 'five-star', 'beloved-and-more', 'masterpieces', 'miserable-and-distressed', 'classic', 'favorites', '__in-my-collection', '2011-reads', 'booze', 'alcoholism', 'fiction', 'historical-fiction', '1001-books-to-read-before-you-die', 'british-literature', 'read-in-2023', '2023', 'from-library', 'pc-100-essential-read']}, {'title': 'The Painted Bird', 'author': 'Jerzy Kosiński', 'rating': '3.91', 'genres': ['Fiction', 'Historical Fiction', 'Classics', 'War', 'Horror', 'Literature', 'Holocaust', 'holocaust-literature', 'novels', '2012', 'classics', 'historical', '2019', 'debut', 'historical-fiction', 'slavic', 'classic-literature', 'czech-republic-poland', 'fiction', '2016-read', 'audible-uk', 'classics', 'bib-l', 'polónia', 'wwii', 'books-read-in-2021', '60s-re-de-construction', 'horror', 'poland', 'fiction', 'historical-fiction', 'holocaust', 'fiction', 'cultured', 'mmix', 'warfare']}, {'title': 'Go Tell It on the Mountain', 'author': 'James Baldwin', 'rating': '4.04', 'genres': ['Fiction', 'Classics', 'African American', 'Race', 'Literature', 'Religion', 'Novels', 'male', 'my-canon', 'novel', '100-modern-library', '2015', 'aere-perennius', 'classics', 'lgbtq', 'religion', '2019', 'recs', 'african-american', 'american', 'biography-biographical', '1001-books-to-read-before-you-die', '2020', 'classic', 'completist-book-club', 'afro-american', 'fav-authors', 'fiction', 'american', 'historical', 'own-a-copy', 'black-authors', 'classics', 'owned', 'african-american', '1001-books', 'african-american', 'fiction', 'book-discussion-perfect', 'captivating', 'classic', 'classic-of-the-month', 'classics', 'fiction', 'audio-books', 'modern-classic', 'modern-literary', '8-usa', 'list-1001', 'list-daily-telegraph', '2018-read', 'usa', 'afro-american', 'american-literature', 'black-discrimination', 'african-american-lit', 'american-20th-c', 'autobiography', 'america-fuck-yeah', 'fictions-of-the-big-it', 'modern-library-100', 'afrocentric', 'american-lit', 'james-baldwin', '2016-book-challenge', '5-star-books', 'american-classics']}, {'title': 'A House for Mr Biswas', 'author': 'V.S. Naipaul', 'rating': '3.81', 'genres': ['Fiction', 'Classics', 'Literature', 'India', 'Nobel Prize', 'Novels', 'Literary Fiction', 'autobiographical-novels', 'novels', 'interpersonal-dynamics', 'personal-identity', 'reviewed', '2013-read', 'bio', 'caribbean', 'books-like-friends', 'favourites', 'indian-alienation', '20-ce', 'empire-post-colonial', 'fiction', 'fiction', 'favourites', 'novel', '2-stars', 'below-average', 'boring', 'all-time-top-bananas', 'literature', 'modern-canon', 'trinidad', 'z_2015-read', 'naipaul', 'east', 'islands', 'literary_canon', 'literature', 'best-of-2019', 'favorites', 'classics', 'mid-20th-century', 'overdrive']}, {'title': 'Play It As It Lays', 'author': 'Joan Didion', 'rating': '3.92', 'genres': ['Fiction', 'Classics', 'Literary Fiction', 'Contemporary', 'Feminism', 'Novels', 'Literature', '2017', '4-stars', 'classics', 'couldn-t-wait-to-read', '2021', 'american-literature', 'reviewed', 'americana', 'hollywood', 'the-united-states-of-books', 'america-canada', 'favourites', 'fiction', '2022', '5-star', 'literary-fiction', 'classic', 'read-2015', 'favourites', 'lit-fic', 'own', 'read-in-2013', 'summer-of-women-2013', 'xx', '2021', 'favorite-reviews', 'from-library', 'california', 'fiction-general', 'los-angeles', '2016-books-to-be-read', '6-star-rating', 'a-must-to-read', '5-stars', 'didion', 'modern-fiction', '1001-read', '2015-book-challenge', 'american-classics', 'guardian-1000', 'favorites', '2016', 'american', 'classics', 'own-a-copy', 'literature', 'california', 'around-the-usa', 'location-usa-california', 'location-usa-nevada']}, {'title': 'Lucky Jim', 'author': 'Kingsley Amis', 'rating': '3.75', 'genres': ['Fiction', 'Classics', 'Humor', 'British Literature', 'Literature', 'Novels', 'Comedy', 'favorite-books', 'academic-novel', 'british-authors', 'humor', '2008-shelved', 'fiction-and-literature', 'autobiographical-novels', 'novels', 'british-literature', 'e-4', 'humor', 'littry-fiction', '2013', 'favorite-reviews', 'reading-through-history', 'comedy', 'linguistics-and-philosophy', 'older-men-younger-women', 'too-sexy-for-maiden-aunts', '1001-books', 'bookcrossing-books', 'read-in-2011', 'britishhumour', 'crazy-ladies', 'dicklits', 'groups-of-people', '2021', 'classics', 'funny', 'alcohol', 'alienation', 'british-classics', 'own-audio', 'quest', '1001-list-2006-ed', '20th-century', 'lit-british', 'campus-lit', 'favorites', 'loser-lit', 'gd-bks-that-were-crap', '2017-books', 'best-of-2017', 'book-club']}, {'title': 'Ubik', 'author': 'Philip K. Dick', 'rating': '4.11', 'genres': ['Science Fiction', 'Fiction', 'Classics', 'Novels', 'Science Fiction Fantasy', 'Mystery', 'Fantasy', 'dick-philip-k', 'science-fiction-old', '2013', 'american', 'fiction', 'sci-fi-beam-me-up', 'sfmasterworks', 'favorites', 'humour', 'scifi-future-speculative-fict', 'usa-and-canada', 'dystopian', 'escapism', 'favourites', 'donalds-are-trumps', 'parody-homage', 'science-fiction', 'e-4', 'fantasy', 'science-fiction', 'dont-own', 'fiction', 'iowa', 'science-fiction', 'favorites', 'sf-top-20', 'top-20', 'fantastic-weird', 'favorites', 'magic-realism-reality-as-illusion', 'philip-k-dick', '2016', 'novels', 'pk-dick', 'sci-fic', '2017', 'ahreet', 'bookshelf', 'favorites', 'fantastical-weird-fiction', 'favorites', 'science-fiction']}, {'title': 'Rabbit, Run', 'author': 'John Updike', 'rating': '3.58', 'genres': ['Fiction', 'Classics', 'Literature', 'Novels', 'American', 'Literary Fiction', 'Banned Books', '100', 'famous-books', 'plain-old-fiction', '1001-books', 'bookcrossing-books', 'read-in-2011', 'book-i-own', 'contemporary-literary', 'favorites', 'classic-novels', 'fiction', 'american-20th-c', 'favorites', 'fiction', '5-stars', 'classics', 'updike', '30-day-book-challenge', 'classics', 'did-not-finish', '2017', 'audio', 'classic', '1001-before-you-die', '2017', 'american', '60-from-the-1960s', 'john-you-dirty-beautiful-bastard', 'pennsylvania', 'contemporary-american-fiction', 'too-sexy-for-maiden-aunts', 'most-liked-review', '1001-books', '2007', '2019', 'born-in-the-usa', 'i-hate-you-then-i-love-you', '2013', '2016', 'dick-lit', 'merkins', 'novels', 'families', 'important-message', 'memorable-characters', 'not-finished', '2018', 'read-in-english', 'usa', 'american-literature', 'rereads']}, {'title': 'White Teeth', 'author': 'Zadie Smith', 'rating': '3.79', 'genres': ['Fiction', 'Contemporary', 'Novels', 'Literary Fiction', 'British Literature', 'Literature', 'Historical Fiction', '2007', 'novels', 'inglese', 'alieni', 'big-books', 'donne', '2014', '2-stars', 'authors-of-color', 'diverse', 'fiction', '1001-and-more', 'baileys-prize', 'bring-on-the-lols', 'contemporary', 'modernclassic', '3-star-reads', 'contemporary-lit', 'postcolonial', '21st-century', 'read-in-2014', '5-star', 'antidote-think-twice-all', 'antidote-think-twice-read', 'last-word-book-club', '21-ce', 'fiction', 'uk', 'own', 'everything-everything-everything', 'obras-maestras', 'tears-of-beautiful-laughter', 'cultural', 'fiction', 'own', 'family-saga', 'twins', 'psychological-drama', 'fiction-general', 'actual', 'europea', '2018', 'bookriot', 'have', 'lit-british', 're-read']}, {'title': 'The Golden Notebook', 'author': 'Doris Lessing', 'rating': '3.77', 'genres': ['Fiction', 'Classics', 'Feminism', 'Literature', 'Novels', 'Nobel Prize', 'Literary Fiction', 'contemp-classics', 'guardian-1000', 'nobel-winners', '2019', 'classics', '1001-books-to-read-before-you-die', 'favorites', 'found-in-the-maze', 'dnf-or-never-read', 'fiction', 'reviewed', '1001-before-you-die', '2019', 'english', 'favorites', '2020-readings', 'british-literature', 'e-4', '2019', 'best-ever', 'read-in-2013', '5-star', 'antidote-think-twice-all', 'antidote-think-twice-read', 'aborted', 'the-list', 'fiction', 'mesmerizing', 'nobels', 'feminism', 'humming-closer-no-hesitation-give-m', 'read-years-ago', 'not-the-whole-truth', 'too-sexy-for-maiden-aunts', 'audiobooks', 'anthony-burgess-top-99', 'british-lit', 'nobelles-lettres', '3-english-world', 'list-1001', 'list-501', '1001-core', 'nobel', '2018-read', 'audible-uk', 'classics', 'nobel']}, {'title': 'The Heart of the Matter', 'author': 'Graham Greene', 'rating': '3.97', 'genres': ['Fiction', 'Classics', 'Africa', 'Literature', 'Novels', 'British Literature', 'Literary Fiction', '1001-before-you-die', '2020', 'english', 'giallo-thriller-poliziesco', 'inglese', '2016', 'five-star-books', 'favourites', 'novels', '20th-century-postwar-to-late', 'brit-lit', 'fiction', 'favorites', 'death', 'kindle-purchase', 'literary-fiction', '20th-century', 'novel', 'good-fiction', 'important-message', 'read-in-2010', '2nd-reading', 'british-lit', 'colonialism-imperialism', 'africa', 'christianity', 'graham-greene', 'fiction-20th-century', '4-star', 'fiction', 'graham-greene', 'classics', 'colonialism', 'english-20th-c', 'audiobook', 'classic', 'my-2019-reading-challenge', 'fiction', 'i-dont-know-why-i-finished', '1990s', '2016', 'classic', 'greeneland-adventures', 'reviewed']}, {'title': 'Pale Fire', 'author': 'Vladimir Nabokov', 'rating': '4.17', 'genres': ['Fiction', 'Classics', 'Poetry', 'Literature', 'Russia', 'Novels', 'Russian Literature', 'favorites', 'innovative', 'parody', 'parody-homage', 'story-review', 'well-i-think-its-funny', '20th-century', 'read-in-2015', 'nabokov-novels-stories', 'one-book-leads-to-another', 'review-may-contain-comic-content', 'america-canada', 'classic-literature', 'favourites', 'faves', 'favourites-slight-return', 'e-4', 'nabokov', 'poetry', '1001-books', 'academia', 'books-about-books', 'favorites', 'love-to-read-again', 'nabokov-the-master', 'borscht-and-kvass', 'novels', 'penguin-classics', 'origin-american', 'origin-russian', '100-mccaffery', '100-modern-library', '2012', 'classics', 'poetry', 'russian', 'nabokov', 'read-2016', 'reviews', 'favorites', 'owned', 'read-again', 'fiction', 'mesmerizing', 'poetry', 'mina-favoritböcker', 'most-loved', '2021', 'classic', 'completist-book-club', 'bad-guys', 'crime-and-punishment', 'hagging-out']}, {'title': 'The Moviegoer', 'author': 'Walker Percy', 'rating': '3.65', 'genres': ['Fiction', 'Classics', 'Literature', 'Novels', 'Southern', 'Literary Fiction', 'American', 'readoveralonglifetime', 'americana', '2016-book-challenge', '5-star-books', 'american-classics', 'novels', 'abandoned-bad', '2012', '20th-century', 'alienation', 'gothique-ou-du-sud', 'mississippi-autoři', '2009', '2009', '20th-century', '2013', 'national-book-award-fiction', 'reviews', 'walker-percy', '100-modern-library', '2012', 'aere-perennius', 'american', 'literary-fiction', 'war', 'origin-american']}, {'title': 'The Confessions of Nat Turner', 'author': 'William Styron', 'rating': '3.96', 'genres': ['Fiction', 'Historical Fiction', 'Classics', 'Literature', 'Historical', 'African American', 'Race', 'fiction', 'united-states', 'virginia', '60-from-the-1960s', 'favorite-books', 'pulitzer-prize-for-fiction-winner', 'american-south', 'historical-fiction', 'national-book-awards-finalists', '2015', 'early-american-lit', 'rth-lifetime', '1paper', '2sortof_nonfiction', 'biography', 'african-american-experience', 'historical-novel', 'interpersonal-dynamics', 'fiction', 'historical-fiction', 'kindle', '1831', '19th-century', '2014', 'fred-karl', '5-star-reads', 'awards-nba', 'awards-pulitzer', 'african-american', 'history', 'non-fiction', 'american-20th-c', 'fiction', 'novels', 'pulitzer-prize']}, {'title': 'Tropic of Cancer', 'author': 'Henry Miller', 'rating': '3.66', 'genres': ['Fiction', 'Classics', 'Literature', 'Novels', 'Banned Books', 'American', 'Erotica', 'autobiographical-novels', 'novels', '1001-before-you-die', '2019', 'american', 'a-hundred-of-the-best-novels', 'classic-novels', 'prurient-interest', 'e-1', 'erotica', 'french-literature', 'classic-literature', 'erotica', 'fiction', 'fiction', 'dick-lit', 'reading-through-history', 'rth-lifetime', 'classics', 'miller-nin-jong', 're-read', 'read-2013', 'american-lit', 'banned', 'modern-classics', 'read-in-2010', '20-ce', 'fiction', 'us', '1001-core', 'picaresque', 'sex']}, {'title': 'Appointment in Samarra', 'author': \"John O'Hara\", 'rating': '3.82', 'genres': ['Fiction', 'Classics', 'Novels', 'Literature', 'American', 'Literary Fiction', '20th Century', 'americana', 'american-authors', 'suicide', '2020', 'from-library', 'pc-100-essential-read', 'fiction', 'novel', 'american-20th-c', 'classics', 'fiction', 'literary', '2018-read', 'audible-us', 'classics', '2017', '20th-cent-reads-18-books-left', 'audiobooks', 'fiction', 'letteratura-usa', 'crime-noir', 'e3', 'n-eua', 'classics', 'americana', 'audiobook', 'modern-library-top-100', 'america-fuck-yeah', 'fictions-of-the-big-it', 'modern-library-100', 'the-classics-club', 'fiction']}, {'title': 'Money', 'author': 'Martin Amis', 'rating': '3.69', 'genres': ['Fiction', 'Classics', 'Novels', 'Contemporary', 'Literature', 'British Literature', 'Literary Fiction', 'british', 'new-york-city', 'must-read', 'powerful-stuff', '20-ce', 'candidate-to-reread', 'fiction', 'british-literature', 'e-2', 'humor', 'amis', 're-read', 'read-2014', 'bad-reads', 'dicklits', 'here-is-new-york', '100', '2011', 'humor', 'too-sexy-for-maiden-aunts', 'well-i-think-its-funny', 'novels', 'sassysassenachs', 'fiction', 'great-britain', 'satire', '1001-core', 'metafiction', 'postmodernism', '2012', 'abandoned', 'definitely-to-read', 'literature', '2016', 'modern-lit', '2010', 'contemporary', '1001', 'uk', 'europea', 'ebook', 'gran-bretagna']}, {'title': 'Deliverance', 'author': 'James Dickey', 'rating': '3.89', 'genres': ['Fiction', 'Classics', 'Thriller', 'Horror', 'Adventure', 'Literature', 'Novels', 'crime-mystery-thriller', 'fiction', 'hick-lit', 'americana', 'thriller', '20th-century', 'read-in-2015', 'classics', 'thriller', 'american-literature', 'all-time-favorites', 'borrowed-from-library', 'my-review-or-notes', 'adventure', 'favorites', 'origin-american', 'americana', 'going-away-from-civilization', 'pompous-but-interesting', '2016', 'favorites', '2015-books-read', 'crime-thrillers', '2016', 'fiction', '2023', 'from-library', 'pc-100-essential-read', 'from-book-to-screen', 'it-stinks', 'kindle-time', 'audiobooks', 'rereads', '2015', 'classic', 'completist-book-club', 'suspense', 'thriller', 'read-in-2014', 'culture-clashes', 'georgia-rapids', 'pub-1970', 'adventure', 'classics', 'ebook', 'favorites']}, {'title': 'The Day of the Locust', 'author': 'Nathanael West', 'rating': '3.71', 'genres': ['Fiction', 'Classics', 'Literature', 'Novels', 'American', '20th Century', 'Literary Fiction', '1930s', 'california', 'hollywood', 'california-über-alles', 'american', '2020', 'audible', 'audio', 'novels', 'america-canada', 'classic-literature', 'favourites', '100', 'famous-books', 'plain-old-fiction', 'merkins', 'novels', 'penguin-classics', 'americana', 'classics', 'books-loved-2022', 'fiction-20th-century', 'film', '100-mccaffery', '100-modern-library', '2013', 'about-violence', 'hopes-dashed-like-an-egg-on-cement', 'classics', '20-books-of-summer-2019', 'novellas', 'obscure-classics', '2016', 'classics', '2022', 'lit']}, {'title': 'Housekeeping', 'author': 'Marilynne Robinson', 'rating': '3.81', 'genres': ['Fiction', 'Classics', 'Literary Fiction', 'Novels', 'Literature', 'Contemporary', 'American', 'beautiful', 'favorites', 'fiction', 'novels', 'short', 'speed-dating', 'yale-lit', '2009', 'american-20th-c', 'american-21st-c', 'fiction', 'americana', 'book-i-own', 'buddy-read', 'contemporary-literary', '2020', 'recs', 'dost', 'read-in-2017', 'books-loved-2015', 'eng-240-spr-15', 'eng-240-spr-17', '80-from-the-1980s', 'debut', 'sister-act', 'american', 'favorites', 'literary-fiction', 'borrowed-from-library', 'favorites', 'modern-classics', 'my-buddies-and-i', 'this-is-how-it-should-be-done', 'my-own-personal-book-canon', 'favourites', 'nys-writer-s-institute', 'this-recording', 'american-literature', 'gothic', '2021', 'american', 'audio']}, {'title': 'The Man Who Loved Children', 'author': 'Christina Stead', 'rating': '3.57', 'genres': ['Fiction', 'Classics', 'Australia', 'Novels', 'Literature', '20th Century', 'Literary Fiction', 'abandoned', 'novels', 'amazingly-awful-5-star-reads', 'bookclub', 'favorites-20th-century', 'my-very-very-favorites', 'novels', '2015year-reading-women', 'feminism', 'funny', 'australian', 'modern-lit', '2009', 'australian', 'family-drama', 'today-s-classics', '2023', 'library', 'and-a-half-stars', 'australia', 'female', 'diverse-and-women-authors', 'literature-aussie', 'fiction', 'australian-fiction', 'depressive-realism', 'classics-challenge-2015', 'culled', 'fiction', 'gave-up', 'australia-and-its-literature', 'australian-author', 'classic', 'lost-2017']}, {'title': 'The Sot-Weed Factor', 'author': 'John Barth', 'rating': '4.11', 'genres': ['Fiction', 'Historical Fiction', 'Classics', 'Literature', 'Novels', 'Humor', 'American', 'a-hundred-of-the-best-novels', 'metamorphosis', 'favorites', 'nt', '2021', 'big-book', 'favorites', 'favourite-books', 'barth', 'exert-yourself', 'read-2015', 'u-s-lit', 'favorites', 'contemporánea', 'posmoderna', '2017', 'literary-fiction', 'adventure', 'all-time-favourites', 'american-writers', 'reviews', '2015-read', 'best-of-2015', 'merkins', 'nonreviews', 'novels', 'dat-prose-tho', 'favorites', 'historical-fiction', 'favorites', 'still-looking-for-signed-or-first', 'favorites', 'fiction', 'historical-fiction', '2022', 'books-i-own', 'favorites', '20th-century', 'print-aint-dead', 'read-in-2022', 'adventure', 'classics', 'contemporary']}, {'title': 'The Adventures of Augie March', 'author': 'Saul Bellow', 'rating': '3.84', 'genres': ['Fiction', 'Classics', 'Literature', 'Novels', 'American', 'Literary Fiction', '20th Century', 'bellow', 'read-2013', 'reviews', '1001-books', 'chicago', 'coming-of-age', 'fiction', 'american-20th-c', 'fiction', 'national-book-award', 'canadian', 'u-s-lit', 'america-fuck-yeah', 'fictions-of-the-big-it', 'modern-library-100', 'abandoned', 'novels', '4-star', 'antidote-think-twice-all', 'antidote-think-twice-read', '2016', 'literary-fiction', 'nobel-winners', 'america-canada', 'classic-literature', 'fiction', 'american-literature', '4-star', 'fiction', 'north-america', '1001-bymrbyd', 'canadian-authors', 'fiction', 'favorites', 'young-americans', 'جائزة-نوبل', 'روايات', 'e2', 'n-canada', 'y-1000bb', '0-favorites', 'c-p-noble-prize', 'fiction-america', 'modern-library-top-100', 'national-book-award', 'nobelles-lettres', '100-modern-library', '2011', 'aere-perennius', 'character-heavy', 'chicago', 'classic', 'being-a-human', 'discovered-thanks-to-goodreads', '20th-cent-100-best', 'novel']}, {'title': 'Herzog', 'author': 'Saul Bellow', 'rating': '3.76', 'genres': ['Fiction', 'Classics', 'Literature', 'Novels', 'American', '20th Century', 'Nobel Prize', 'jewish-literature', 'novels', 'worst', 'american-20th-c', 'favorites', 'fiction', '2009', '100', 'famous-books', 'plain-old-fiction', 'favourites', 'novels-english', 'saul-bellow', 'bellow', 'read-2014', 'reviews', 'pub-1964', '2018-read', 'audible-uk', 'canada', 'america-canada', 'fiction', 'nobel-laureates', 'absurd', 'black-humour', 'epistolaire', 'favorites', 'american-literature', 'important', 'one-person-s-tragedy', 'interpersonal-dynamics', 'jewish-history-culture', 'personal-identity', 'classics', 'contemporary', 'darkness-in-the-soul', '1001-books-to-read-before-you-die', 'canada', 'campus-varsity-novel', 'epistolary-novel', 'favorites', '2016']}, {'title': 'At Swim-Two-Birds', 'author': \"Flann O'Brien\", 'rating': '3.86', 'genres': ['Fiction', 'Ireland', 'Classics', 'Irish Literature', 'Novels', 'Humor', 'Literature', 'a-hundred-of-the-best-novels', 'flannobrien', 'metamorphosis', 'review-may-contain-comic-content', 'irish', 'humour', 'ireland', 'lit-crit-and-about-lit', 'extra-creative', 'favorites', 'foriegn-lit', 'novels', 'infinite-books', 'flann', 'read-2013', 'reviews', '2022', 'e-book', 'pc-100-essential-read', '2012', 'funny', 'read-in-2010', 'unexpectedly-terrific', 'classic-literature', 'ireland', 'eire', 'fictions-of-the-big-it', 'satire', 'falsestarts', 'freebox', '2020', 'absurdist', 'british', 'dalkey-by-proxy', 'nonreviews', 'novels', '3-star', 'r-2014', 'r-goodreads', '1001-core', 'time-100', 'fiction', 'kitaplik', '5-star-books', 'discovered-thanks-to-goodreads', 'to-assign-in-creative-writing-class', 'immortal', 'experimental-fic', 'setting-ireland', 'writing', 'barthelme-list', 'irish', 'ireland', 'clásicos', 'humor', 'mainstream', 'own', 'comedy', 'lush']}, {'title': 'Call It Sleep', 'author': 'Henry Roth', 'rating': '3.81', 'genres': ['Fiction', 'Classics', 'Historical Fiction', 'Jewish', 'New York', 'Novels', 'Literature', 'novels', 'audio', 'overdrive', 'american', 'favourites', 'jewish', 'dave-r-made-me-do-it', 'lit-fic', 'need-to-review', '2011groupchallenge', '2011ind-chal200bks', 'fiction', '1001-books-list', '20th-centurylit-early', 'library-borrow', 'favorites', 'lesser-known-gems-f', 'novel', 'american-fiction', 'pre-wwii-american-fiction', 'genre-fiction', 'read-in-2018', 'setting-realist', '2023', 'ulubione', '5-star', 'favourites']}, {'title': 'The Sheltering Sky', 'author': 'Paul Bowles', 'rating': '3.89', 'genres': ['Fiction', 'Classics', 'Africa', 'Travel', 'Literature', 'Novels', 'Historical Fiction', 'american-authors', 'existentialist', 'french-north-africa', 'book-to-film', 'travel', 'america-canada', 'classic-literature', 'favourites', '40-from-the-1940s', 'love-and-marriage', 'out-of-africa', 'africa', 'book-i-own', 'classics-shelf', '4-stars', 'romance', '100-mccaffery', '100-modern-library', '2015', 'desert', 'heart-breaking', 'life-changing', 'mina-favoritböcker', 'hated-it', '2017', 'american', 'literary-fiction', 'fiction-1900-1950', 'z_2010-read', 'historical-fiction', 'post-world-war-two', 'pub-1949', 'classics', 'dark', 'have-to-read-again', 'read-in-2011', 'favorites', 'my-favourite-books', 'paul-bowles', '5-estrelas-é-curto-2022', 'bmag-2022', 'paul-bowles', 'finished-in-2015']}, {'title': 'A Handful of Dust', 'author': 'Evelyn Waugh', 'rating': '3.90', 'genres': ['Fiction', 'Classics', 'Literature', 'Novels', 'British Literature', '20th Century', 'Humor', '1900-1960', 'classics', 'guardian-1000', 'e-4', 'classics', 'humour', 'best-of-2010', 'british-isles-theme-setting', 'classic', 'classic-literature', 'human-cruelty', 'quintessentially-english', 'brittish-lit', '2020', 'classic-literary', 'fiction', 'waugh', '20th-century', 'british-and-irish-isles', 'novel', 'classics', 'own-a-copy', 'penguin-modern-classics', '1001-books', '2017', 'british', 'archaeology', 'classics', 'gilded-age', 'classics', 'evelyn-waugh', '2018-read', 'audible-us', 'brazil', 'literature', 'ipad', '1930-s', 'bright-young-things', 'brit-and-irish-lit', '1001-books', 'english', 'guardian-1000-must-read']}, {'title': 'The Berlin Stories', 'author': 'Christopher Isherwood', 'rating': '4.04', 'genres': ['Fiction', 'Classics', 'Short Stories', 'Historical Fiction', 'Germany', 'Literature', 'LGBT', 'literature', 'top-bananas', '20th-century', 'lit-british', 'subject-war', 'history', 'a-research', 'fiction-general', 'lgbtq', '1900', 'isherwood', 'own', '2018', 'cover-envy', 'germany', '2020_read', 'berlin', 'british_lit', 'germany-fic-lit', '5-star-general-fiction', '5-star-overall', 'character-heavy', 'dark', 'early-modernism', '100-all-time-novels', 'historical-wwii', 'literature-english', 're-read', '20th-century', 'reviewed', 'british-fiction', 'interwar-british-fiction', 'read-2011', 'own-physical-format']}, {'title': 'A Death in the Family', 'author': 'James Agee', 'rating': '3.89', 'genres': ['Fiction', 'Classics', 'Literature', 'Novels', 'Historical Fiction', 'American', 'Literary Fiction', 'classic-novels', 'americana', 'في-مكتبتي', 'مفضلات', 'gothique-ou-du-sud', 'best-of-2009', 'book-club-selection', 'classic', 'autobiographical-fiction', 'family-relationships', 'ghosts', 'public-library', '2020', 'american', 'fiction', 'illustrated-review', 'non-fiction', 'rural-america', '2023', 'from-library', 'pc-100-essential-read', 'classics', 'fiction', 'personal-library', 'classic', 'family', 'southern-lit', 'didnt-finish', 'my-books', '2016-read', 'audible-us', 'bio', '20-22', '2020-reads', '5-stars', 'american', 'american-20th-c', 'fiction', 'novels', '20-ce', 'fiction', 'us']}, {'title': 'The Recognitions', 'author': 'William Gaddis', 'rating': '4.20', 'genres': ['Fiction', 'Classics', 'Literature', 'Novels', 'American', 'Literary Fiction', '20th Century', 'a-hundred-of-the-best-novels', '2017', 'at-home-reading', 'completist-book-club', 'favourite-books', 'american-20th-c', 'fiction', 'novels', 'channeling-challenge', 'favorites', 'funny-funsome-sarcasome', 'american-novels', 'exert-yourself', 'gaddis', 'read-2012', 'contemporánea', 'posmoderna', '2009', 'infinite-books', '2017', 'favorites', 'literary-fiction', 'rightly-revered-ritings', 'fiction', '2020', 'arc', 'big-book', 'favorites', 'nt', 'big-and-supposedly-difficult', 'postmodern-toasties', 'big-books-to-live-in', 'favorites', 'signed-and-or-first-editions', 'hospitalized-approaching-perfection', 'favorite-books', 'read-2020', 'read-and-kept', 'moose-tea', 'origin-american', '100-mccaffery', '2012', 'aere-perennius']}, {'title': 'Dog Soldiers', 'author': 'Robert  Stone', 'rating': '3.70', 'genres': ['Fiction', 'War', 'Historical Fiction', 'Crime', 'Novels', 'Classics', 'Literature', 'vietnam', '2021', 'from-library', 'pc-100-essential-read', '2020', 'american', 'historical-fiction', '100', 'crime-mystery', 'famous-books', '2020', 'black-comedy', 'heart-of-darkness', 'noir', 'blog', 'vietnam', 'american-novels-that-matter', 'american-thuggery', 'crime', 'literary-fiction', '70s', 'action-adventure', 'male-issues', 'crime', 'the-70s', 'vietnam', 'crime', 'seventies-classics', 'american-fiction', 'historical-fiction', 'kindle', 'war', 'man-pulitzer-book-award-project', 'reto-2019', '1960s', 'america', 'fiction']}, {'title': 'The Sportswriter', 'author': 'Richard Ford', 'rating': '3.69', 'genres': ['Fiction', 'Novels', 'Literary Fiction', 'Literature', 'American', 'Classics', 'Sports', '2019-completed', 'contemp-classics', 'guardian-1000', 'americana', '2020', 'american', 'literary-fiction', '2017-book-challenge', '5-star-books', 'american-classics', '2019', '2021', 'fiction', 'kindle', '2013', '20th-century', 'divorce', '100', 'modern-lit', 'plain-old-fiction', 'favorites', 'american-20th-c', 'fiction', 'novels', 'america-canada', 'fiction', 'other', '20th-century', 'award-winners', 'literary_canon', 'literature']}, {'title': 'The Assistant', 'author': 'Bernard Malamud', 'rating': '3.90', 'genres': ['Fiction', 'Classics', 'Jewish', 'Novels', 'Literature', 'American', 'Americana', 'made-progress', 'bitchin', 'letteraura-israeliana', 'usa', 'american-literature', 'favorites', '2016-read', 'audible-uk', 'classics', 'american-literature', 'letteratura-yiddish', 'romanzo', 'nord-america', '2022', 'lett-americana', 'usa', 'americana', 'americani', 'faves', 'classici', 'contemporary-american', 'stati-uniti', 'fictions', '2017', 'classici', 'lett-americana', 'lett-ebraica']}, {'title': 'Loving', 'author': 'Henry Green', 'rating': '3.52', 'genres': ['Fiction', 'Classics', 'Historical Fiction', 'Novels', 'Literature', 'Ireland', 'War', '1001-books-to-read-before-you-die', 'favorites', 'found-in-the-maze', 'mind-the-gap', 'world-of-insects', 'english-novels', 'favorites', 'english-literature', '1001-list-2006-ed', '20th-century', 'lit-british', 'physical-owned', 'recommended-to-me', 'الأدب-البريطاني', 'liverpool-research', 'novels', 'classics', 'fiction', 'modern-library-list', '20th-century-lit', 'fiction', 'ireland', '2019', 'novels', 'should-be-better-known-novels', '1001-books', '1001-challenge', '2019-botm']}, {'title': 'Under the Net', 'author': 'Iris Murdoch', 'rating': '3.77', 'genres': ['Fiction', 'Classics', 'Novels', 'Literature', 'Philosophy', '20th Century', 'British Literature', 'philosophy-sociology-psychology', 'read-authors-m-p', 'action-adventure', 'british-authors', 'humor', 'inglese', '2017-book-challenge', 'english-calssics', 'guardian-1000', 'general-fiction', 'literature', '2016', 'murdoch', 'ipad', 'novels', 'buddy-read', 'obscure-classics', 'reviewed-for-blog', '1001-books-to-read-before-you-die', 'female-authors', 'irish-literature', 'classics', 'britain-england', 'debut', 'eng-lon-earls-court', 'favorites', 'favorites', 'e4', 'n-irlanda', 'y-1000bb', '1001-list-2006-ed', '20th-century', 'lit-british', '20th-century', 'read-in-2015', 'books-read-in-2016']}, {'title': 'A Dance to the Music of Time: 1st Movement', 'author': 'Anthony Powell', 'rating': '3.94', 'genres': ['Fiction', 'Classics', 'Historical Fiction', 'British Literature', 'Literature', 'Novels', '20th Century', 'dance-to-the-music-of-time', 'life-is-proust', 'strongly-recommended', 'beach-fun-fiction', 'classics', 'lit-british', 'read-for-pleasure', 'modern-lit', 'will-be-regretted-on-my-deathbed', '2021-read', 'arts', 'audible-uk', '2016_read', 'boredom-coefficient', 'british_lit', '1001-books-to-read-before-you-die', '1920s', 'british-literature', '100-modern-library', 'audio-paper', 'audiobook', '1001-books', 'mid-20th-century', 'inglesa', 'owned', 'british-contemporary-literature', 'historical-fiction', 'modern-library-100', '1001-books-read', 'britain', 'c20th', 'brit-lit', 'literatti', 'overlooked-classics', 'anglo-irish', 'lp2000s', 'british-fiction']}, {'title': 'An American Tragedy', 'author': 'Theodore Dreiser', 'rating': '3.96', 'genres': ['Classics', 'Fiction', 'Literature', 'Historical Fiction', 'American', 'Novels', 'Banned Books', 'novels', '2020', 'audio', 'classic', 'american', '5-stars', 'classics', 'classic-novels', 'historical-fiction', '2016-read', 'audible-us', 'classics', 'classic', 'american-fiction', 'moose-tea', 'origin-american', 'letteratura-novecento', 'scrittori-americani', 'classics', 'fiction', 'required-readings', 'audiobooks', 'gilmore', 'guardian-list', '1920s', '2020', 'american-fiction', '20th-century', 'american-literature', 'american-writer', 'american-21st-c', 'classics', 'fiction', 'film-only', 'published-1925', 'summer-2013', 'american-literature', '20th-century-classics', 'general-fiction', '2020', '2020-ng-group-challenge', '2020genrechallenge']}, {'title': 'Falconer', 'author': 'John Cheever', 'rating': '3.65', 'genres': ['Fiction', 'Classics', 'Novels', 'Literature', 'Literary Fiction', 'Crime', 'American', 'americana', '2020', 'from-library', 'pc-100-essential-read', '2017', 'books-i-ll-read-again-many-times', 'books-i-ve-read-at-least-3x', 'forgiveness-reconciliation', 'interpersonal-dynamics', 'personal-identity', '100', '2011', 'famous-books', 'america-canada', 'fiction', 'friends-of-dorothy', 'steaming-pile-o-shit', 'américa', 'anglófona', 'lgbti', 'fiction', '2013', 'aere-perennius', '0-gut-emotions', 'usa', 'not-so-much', 'novels', '2015', 'biblioteca-pessoal', '2016-books', 'cheever']}, {'title': 'The Death of the Heart', 'author': 'Elizabeth Bowen', 'rating': '3.65', 'genres': ['Classics', 'Fiction', 'Romance', 'Historical Fiction', '20th Century', 'Novels', 'Literature', '2019-completed', 'london', 'four-ana-half-stars-books', 'bowen', 'set-in-the-uk', '2018-read', 'audible-uk', 'classics', 'brits', 'read-in-2013', 'summer-of-women-2013', 'favorites-read-after-2021', 'modern-lit', 'reviewed', '2017', 'realism', 'classics', 'bookclub-reads', 'books-to-unsettle', '2018-favorites', 'audiobook', '2024', 'classics', 'women-writers', '2012', 'feel-goods', '1001-authors-not-list-book', 'library', 'mid-20th-century', 'bildungsroman', 'women']}]\n"
          ]
        }
      ]
    },
    {
      "cell_type": "code",
      "source": [
        "import pandas as pd"
      ],
      "metadata": {
        "id": "KRYKFhdKaklb"
      },
      "execution_count": null,
      "outputs": []
    },
    {
      "cell_type": "code",
      "source": [
        "book_data = get_book_data()\n",
        "\n",
        "# Create a DataFrame from the book data\n",
        "df = pd.DataFrame(book_data)\n",
        "\n",
        "# Print the DataFrame as a table\n",
        "print(df)"
      ],
      "metadata": {
        "colab": {
          "base_uri": "https://localhost:8080/"
        },
        "id": "vNLenNf5ZSiB",
        "outputId": "66a8835f-8542-434b-dbe8-e5c991177769"
      },
      "execution_count": null,
      "outputs": [
        {
          "output_type": "stream",
          "name": "stdout",
          "text": [
            "                                         title               author rating  \\\n",
            "0                        To Kill a Mockingbird           Harper Lee   4.26   \n",
            "1                                         1984        George Orwell   4.19   \n",
            "2                        The Lord of the Rings       J.R.R. Tolkien   4.53   \n",
            "3                       The Catcher in the Rye        J.D. Salinger   3.80   \n",
            "4                             The Great Gatsby  F. Scott Fitzgerald   3.93   \n",
            "..                                         ...                  ...    ...   \n",
            "95                               Under the Net         Iris Murdoch   3.77   \n",
            "96  A Dance to the Music of Time: 1st Movement       Anthony Powell   3.94   \n",
            "97                         An American Tragedy     Theodore Dreiser   3.96   \n",
            "98                                    Falconer         John Cheever   3.65   \n",
            "99                      The Death of the Heart      Elizabeth Bowen   3.65   \n",
            "\n",
            "                                               genres  \n",
            "0   [Classics, Fiction, Historical Fiction, School...  \n",
            "1   [Classics, Fiction, Science Fiction, Dystopia,...  \n",
            "2   [Fantasy, Classics, Fiction, Adventure, Scienc...  \n",
            "3   [Classics, Fiction, Young Adult, Literature, S...  \n",
            "4   [Classics, Fiction, School, Historical Fiction...  \n",
            "..                                                ...  \n",
            "95  [Fiction, Classics, Novels, Literature, Philos...  \n",
            "96  [Fiction, Classics, Historical Fiction, Britis...  \n",
            "97  [Classics, Fiction, Literature, Historical Fic...  \n",
            "98  [Fiction, Classics, Novels, Literature, Litera...  \n",
            "99  [Classics, Fiction, Romance, Historical Fictio...  \n",
            "\n",
            "[100 rows x 4 columns]\n"
          ]
        }
      ]
    },
    {
      "cell_type": "code",
      "source": [
        "# Specify the filename for the CSV file\n",
        "csv_filename = 'book_data.csv'\n",
        "\n",
        "# Save the DataFrame to a CSV file\n",
        "df.to_csv(csv_filename, index=False)\n",
        "\n",
        "print(\"Book data has been saved to\", csv_filename)"
      ],
      "metadata": {
        "colab": {
          "base_uri": "https://localhost:8080/"
        },
        "id": "7dm3rOV1amgF",
        "outputId": "df2a401f-2165-4626-902d-2d6cbb251d4a"
      },
      "execution_count": null,
      "outputs": [
        {
          "output_type": "stream",
          "name": "stdout",
          "text": [
            "Book data has been saved to book_data.csv\n"
          ]
        }
      ]
    },
    {
      "cell_type": "code",
      "source": [
        "df.dropna(inplace=True)"
      ],
      "metadata": {
        "id": "Cao7fHhzbd6x"
      },
      "execution_count": null,
      "outputs": []
    },
    {
      "cell_type": "code",
      "source": [
        "import pandas as pd\n",
        "import numpy as np\n",
        "import matplotlib.pyplot as plt\n",
        "import seaborn as sns\n",
        "%matplotlib inline\n",
        "import re\n",
        "import warnings\n",
        "warnings.filterwarnings(\"ignore\", category=DeprecationWarning)"
      ],
      "metadata": {
        "id": "rEiqFSO_cXU8"
      },
      "execution_count": null,
      "outputs": []
    },
    {
      "cell_type": "code",
      "source": [
        "df = pd.read_csv('book_data.csv')\n",
        "df.head()"
      ],
      "metadata": {
        "colab": {
          "base_uri": "https://localhost:8080/",
          "height": 206
        },
        "id": "bQ2YtM0rdO0j",
        "outputId": "3202dc38-472e-4b02-a910-2fe5ae6a9745"
      },
      "execution_count": null,
      "outputs": [
        {
          "output_type": "execute_result",
          "data": {
            "text/plain": [
              "                    title               author  rating  \\\n",
              "0   To Kill a Mockingbird           Harper Lee    4.26   \n",
              "1                    1984        George Orwell    4.19   \n",
              "2   The Lord of the Rings       J.R.R. Tolkien    4.53   \n",
              "3  The Catcher in the Rye        J.D. Salinger    3.80   \n",
              "4        The Great Gatsby  F. Scott Fitzgerald    3.93   \n",
              "\n",
              "                                              genres  \n",
              "0  ['Classics', 'Fiction', 'Historical Fiction', ...  \n",
              "1  ['Classics', 'Fiction', 'Science Fiction', 'Dy...  \n",
              "2  ['Fantasy', 'Classics', 'Fiction', 'Adventure'...  \n",
              "3  ['Classics', 'Fiction', 'Young Adult', 'Litera...  \n",
              "4  ['Classics', 'Fiction', 'School', 'Historical ...  "
            ],
            "text/html": [
              "\n",
              "  <div id=\"df-8f54bf49-e583-4d81-b5ee-5fb66a6f1d87\" class=\"colab-df-container\">\n",
              "    <div>\n",
              "<style scoped>\n",
              "    .dataframe tbody tr th:only-of-type {\n",
              "        vertical-align: middle;\n",
              "    }\n",
              "\n",
              "    .dataframe tbody tr th {\n",
              "        vertical-align: top;\n",
              "    }\n",
              "\n",
              "    .dataframe thead th {\n",
              "        text-align: right;\n",
              "    }\n",
              "</style>\n",
              "<table border=\"1\" class=\"dataframe\">\n",
              "  <thead>\n",
              "    <tr style=\"text-align: right;\">\n",
              "      <th></th>\n",
              "      <th>title</th>\n",
              "      <th>author</th>\n",
              "      <th>rating</th>\n",
              "      <th>genres</th>\n",
              "    </tr>\n",
              "  </thead>\n",
              "  <tbody>\n",
              "    <tr>\n",
              "      <th>0</th>\n",
              "      <td>To Kill a Mockingbird</td>\n",
              "      <td>Harper Lee</td>\n",
              "      <td>4.26</td>\n",
              "      <td>['Classics', 'Fiction', 'Historical Fiction', ...</td>\n",
              "    </tr>\n",
              "    <tr>\n",
              "      <th>1</th>\n",
              "      <td>1984</td>\n",
              "      <td>George Orwell</td>\n",
              "      <td>4.19</td>\n",
              "      <td>['Classics', 'Fiction', 'Science Fiction', 'Dy...</td>\n",
              "    </tr>\n",
              "    <tr>\n",
              "      <th>2</th>\n",
              "      <td>The Lord of the Rings</td>\n",
              "      <td>J.R.R. Tolkien</td>\n",
              "      <td>4.53</td>\n",
              "      <td>['Fantasy', 'Classics', 'Fiction', 'Adventure'...</td>\n",
              "    </tr>\n",
              "    <tr>\n",
              "      <th>3</th>\n",
              "      <td>The Catcher in the Rye</td>\n",
              "      <td>J.D. Salinger</td>\n",
              "      <td>3.80</td>\n",
              "      <td>['Classics', 'Fiction', 'Young Adult', 'Litera...</td>\n",
              "    </tr>\n",
              "    <tr>\n",
              "      <th>4</th>\n",
              "      <td>The Great Gatsby</td>\n",
              "      <td>F. Scott Fitzgerald</td>\n",
              "      <td>3.93</td>\n",
              "      <td>['Classics', 'Fiction', 'School', 'Historical ...</td>\n",
              "    </tr>\n",
              "  </tbody>\n",
              "</table>\n",
              "</div>\n",
              "    <div class=\"colab-df-buttons\">\n",
              "\n",
              "  <div class=\"colab-df-container\">\n",
              "    <button class=\"colab-df-convert\" onclick=\"convertToInteractive('df-8f54bf49-e583-4d81-b5ee-5fb66a6f1d87')\"\n",
              "            title=\"Convert this dataframe to an interactive table.\"\n",
              "            style=\"display:none;\">\n",
              "\n",
              "  <svg xmlns=\"http://www.w3.org/2000/svg\" height=\"24px\" viewBox=\"0 -960 960 960\">\n",
              "    <path d=\"M120-120v-720h720v720H120Zm60-500h600v-160H180v160Zm220 220h160v-160H400v160Zm0 220h160v-160H400v160ZM180-400h160v-160H180v160Zm440 0h160v-160H620v160ZM180-180h160v-160H180v160Zm440 0h160v-160H620v160Z\"/>\n",
              "  </svg>\n",
              "    </button>\n",
              "\n",
              "  <style>\n",
              "    .colab-df-container {\n",
              "      display:flex;\n",
              "      gap: 12px;\n",
              "    }\n",
              "\n",
              "    .colab-df-convert {\n",
              "      background-color: #E8F0FE;\n",
              "      border: none;\n",
              "      border-radius: 50%;\n",
              "      cursor: pointer;\n",
              "      display: none;\n",
              "      fill: #1967D2;\n",
              "      height: 32px;\n",
              "      padding: 0 0 0 0;\n",
              "      width: 32px;\n",
              "    }\n",
              "\n",
              "    .colab-df-convert:hover {\n",
              "      background-color: #E2EBFA;\n",
              "      box-shadow: 0px 1px 2px rgba(60, 64, 67, 0.3), 0px 1px 3px 1px rgba(60, 64, 67, 0.15);\n",
              "      fill: #174EA6;\n",
              "    }\n",
              "\n",
              "    .colab-df-buttons div {\n",
              "      margin-bottom: 4px;\n",
              "    }\n",
              "\n",
              "    [theme=dark] .colab-df-convert {\n",
              "      background-color: #3B4455;\n",
              "      fill: #D2E3FC;\n",
              "    }\n",
              "\n",
              "    [theme=dark] .colab-df-convert:hover {\n",
              "      background-color: #434B5C;\n",
              "      box-shadow: 0px 1px 3px 1px rgba(0, 0, 0, 0.15);\n",
              "      filter: drop-shadow(0px 1px 2px rgba(0, 0, 0, 0.3));\n",
              "      fill: #FFFFFF;\n",
              "    }\n",
              "  </style>\n",
              "\n",
              "    <script>\n",
              "      const buttonEl =\n",
              "        document.querySelector('#df-8f54bf49-e583-4d81-b5ee-5fb66a6f1d87 button.colab-df-convert');\n",
              "      buttonEl.style.display =\n",
              "        google.colab.kernel.accessAllowed ? 'block' : 'none';\n",
              "\n",
              "      async function convertToInteractive(key) {\n",
              "        const element = document.querySelector('#df-8f54bf49-e583-4d81-b5ee-5fb66a6f1d87');\n",
              "        const dataTable =\n",
              "          await google.colab.kernel.invokeFunction('convertToInteractive',\n",
              "                                                    [key], {});\n",
              "        if (!dataTable) return;\n",
              "\n",
              "        const docLinkHtml = 'Like what you see? Visit the ' +\n",
              "          '<a target=\"_blank\" href=https://colab.research.google.com/notebooks/data_table.ipynb>data table notebook</a>'\n",
              "          + ' to learn more about interactive tables.';\n",
              "        element.innerHTML = '';\n",
              "        dataTable['output_type'] = 'display_data';\n",
              "        await google.colab.output.renderOutput(dataTable, element);\n",
              "        const docLink = document.createElement('div');\n",
              "        docLink.innerHTML = docLinkHtml;\n",
              "        element.appendChild(docLink);\n",
              "      }\n",
              "    </script>\n",
              "  </div>\n",
              "\n",
              "\n",
              "<div id=\"df-a49ec01b-ddea-49ce-87cf-bf2e3f185d66\">\n",
              "  <button class=\"colab-df-quickchart\" onclick=\"quickchart('df-a49ec01b-ddea-49ce-87cf-bf2e3f185d66')\"\n",
              "            title=\"Suggest charts\"\n",
              "            style=\"display:none;\">\n",
              "\n",
              "<svg xmlns=\"http://www.w3.org/2000/svg\" height=\"24px\"viewBox=\"0 0 24 24\"\n",
              "     width=\"24px\">\n",
              "    <g>\n",
              "        <path d=\"M19 3H5c-1.1 0-2 .9-2 2v14c0 1.1.9 2 2 2h14c1.1 0 2-.9 2-2V5c0-1.1-.9-2-2-2zM9 17H7v-7h2v7zm4 0h-2V7h2v10zm4 0h-2v-4h2v4z\"/>\n",
              "    </g>\n",
              "</svg>\n",
              "  </button>\n",
              "\n",
              "<style>\n",
              "  .colab-df-quickchart {\n",
              "      --bg-color: #E8F0FE;\n",
              "      --fill-color: #1967D2;\n",
              "      --hover-bg-color: #E2EBFA;\n",
              "      --hover-fill-color: #174EA6;\n",
              "      --disabled-fill-color: #AAA;\n",
              "      --disabled-bg-color: #DDD;\n",
              "  }\n",
              "\n",
              "  [theme=dark] .colab-df-quickchart {\n",
              "      --bg-color: #3B4455;\n",
              "      --fill-color: #D2E3FC;\n",
              "      --hover-bg-color: #434B5C;\n",
              "      --hover-fill-color: #FFFFFF;\n",
              "      --disabled-bg-color: #3B4455;\n",
              "      --disabled-fill-color: #666;\n",
              "  }\n",
              "\n",
              "  .colab-df-quickchart {\n",
              "    background-color: var(--bg-color);\n",
              "    border: none;\n",
              "    border-radius: 50%;\n",
              "    cursor: pointer;\n",
              "    display: none;\n",
              "    fill: var(--fill-color);\n",
              "    height: 32px;\n",
              "    padding: 0;\n",
              "    width: 32px;\n",
              "  }\n",
              "\n",
              "  .colab-df-quickchart:hover {\n",
              "    background-color: var(--hover-bg-color);\n",
              "    box-shadow: 0 1px 2px rgba(60, 64, 67, 0.3), 0 1px 3px 1px rgba(60, 64, 67, 0.15);\n",
              "    fill: var(--button-hover-fill-color);\n",
              "  }\n",
              "\n",
              "  .colab-df-quickchart-complete:disabled,\n",
              "  .colab-df-quickchart-complete:disabled:hover {\n",
              "    background-color: var(--disabled-bg-color);\n",
              "    fill: var(--disabled-fill-color);\n",
              "    box-shadow: none;\n",
              "  }\n",
              "\n",
              "  .colab-df-spinner {\n",
              "    border: 2px solid var(--fill-color);\n",
              "    border-color: transparent;\n",
              "    border-bottom-color: var(--fill-color);\n",
              "    animation:\n",
              "      spin 1s steps(1) infinite;\n",
              "  }\n",
              "\n",
              "  @keyframes spin {\n",
              "    0% {\n",
              "      border-color: transparent;\n",
              "      border-bottom-color: var(--fill-color);\n",
              "      border-left-color: var(--fill-color);\n",
              "    }\n",
              "    20% {\n",
              "      border-color: transparent;\n",
              "      border-left-color: var(--fill-color);\n",
              "      border-top-color: var(--fill-color);\n",
              "    }\n",
              "    30% {\n",
              "      border-color: transparent;\n",
              "      border-left-color: var(--fill-color);\n",
              "      border-top-color: var(--fill-color);\n",
              "      border-right-color: var(--fill-color);\n",
              "    }\n",
              "    40% {\n",
              "      border-color: transparent;\n",
              "      border-right-color: var(--fill-color);\n",
              "      border-top-color: var(--fill-color);\n",
              "    }\n",
              "    60% {\n",
              "      border-color: transparent;\n",
              "      border-right-color: var(--fill-color);\n",
              "    }\n",
              "    80% {\n",
              "      border-color: transparent;\n",
              "      border-right-color: var(--fill-color);\n",
              "      border-bottom-color: var(--fill-color);\n",
              "    }\n",
              "    90% {\n",
              "      border-color: transparent;\n",
              "      border-bottom-color: var(--fill-color);\n",
              "    }\n",
              "  }\n",
              "</style>\n",
              "\n",
              "  <script>\n",
              "    async function quickchart(key) {\n",
              "      const quickchartButtonEl =\n",
              "        document.querySelector('#' + key + ' button');\n",
              "      quickchartButtonEl.disabled = true;  // To prevent multiple clicks.\n",
              "      quickchartButtonEl.classList.add('colab-df-spinner');\n",
              "      try {\n",
              "        const charts = await google.colab.kernel.invokeFunction(\n",
              "            'suggestCharts', [key], {});\n",
              "      } catch (error) {\n",
              "        console.error('Error during call to suggestCharts:', error);\n",
              "      }\n",
              "      quickchartButtonEl.classList.remove('colab-df-spinner');\n",
              "      quickchartButtonEl.classList.add('colab-df-quickchart-complete');\n",
              "    }\n",
              "    (() => {\n",
              "      let quickchartButtonEl =\n",
              "        document.querySelector('#df-a49ec01b-ddea-49ce-87cf-bf2e3f185d66 button');\n",
              "      quickchartButtonEl.style.display =\n",
              "        google.colab.kernel.accessAllowed ? 'block' : 'none';\n",
              "    })();\n",
              "  </script>\n",
              "</div>\n",
              "    </div>\n",
              "  </div>\n"
            ],
            "application/vnd.google.colaboratory.intrinsic+json": {
              "type": "dataframe",
              "variable_name": "df",
              "summary": "{\n  \"name\": \"df\",\n  \"rows\": 100,\n  \"fields\": [\n    {\n      \"column\": \"title\",\n      \"properties\": {\n        \"dtype\": \"string\",\n        \"num_unique_values\": 100,\n        \"samples\": [\n          \"Herzog\",\n          \"The Crying of Lot 49\",\n          \"The Heart of the Matter\"\n        ],\n        \"semantic_type\": \"\",\n        \"description\": \"\"\n      }\n    },\n    {\n      \"column\": \"author\",\n      \"properties\": {\n        \"dtype\": \"string\",\n        \"num_unique_values\": 91,\n        \"samples\": [\n          \"Don DeLillo\",\n          \"Jack Kerouac\",\n          \"Malcolm Lowry\"\n        ],\n        \"semantic_type\": \"\",\n        \"description\": \"\"\n      }\n    },\n    {\n      \"column\": \"rating\",\n      \"properties\": {\n        \"dtype\": \"number\",\n        \"std\": 0.19221670745869787,\n        \"min\": 3.46,\n        \"max\": 4.53,\n        \"num_unique_values\": 55,\n        \"samples\": [\n          3.86,\n          4.24,\n          4.25\n        ],\n        \"semantic_type\": \"\",\n        \"description\": \"\"\n      }\n    },\n    {\n      \"column\": \"genres\",\n      \"properties\": {\n        \"dtype\": \"string\",\n        \"num_unique_values\": 100,\n        \"samples\": [\n          \"['Fiction', 'Classics', 'Literature', 'Novels', 'American', '20th Century', 'Nobel Prize', 'jewish-literature', 'novels', 'worst', 'american-20th-c', 'favorites', 'fiction', '2009', '100', 'famous-books', 'plain-old-fiction', 'favourites', 'novels-english', 'saul-bellow', 'bellow', 'read-2014', 'reviews', 'pub-1964', '2018-read', 'audible-uk', 'canada', 'america-canada', 'fiction', 'nobel-laureates', 'absurd', 'black-humour', 'epistolaire', 'favorites', 'american-literature', 'important', 'one-person-s-tragedy', 'interpersonal-dynamics', 'jewish-history-culture', 'personal-identity', 'classics', 'contemporary', 'darkness-in-the-soul', '1001-books-to-read-before-you-die', 'canada', 'campus-varsity-novel', 'epistolary-novel', 'favorites', '2016']\",\n          \"['Fiction', 'Classics', 'Literature', 'Novels', 'American', 'Mystery', 'Literary Fiction', 'pynchon', 'read-2012', 'reviews', '1954-1969', 'audiobook', 'classics', '20th-century', 'read-in-2018', 'alpha-meta-dig-a', 'america', 'fiction', 'metafiction', 'times-100-best', 'cross-continental-book-club', 'gr-group-coreads', 'read-in-2012', '100', 'famous-books', 'american-20th-c', 'fiction', 'novels', 'echoes', 'serendipity', 'blame-jordan-if-you-like', 'parody-homage', 'pooh-dante', 'novels', 'literature', '2022', 'from-library', 'pc-100-essential-read', 'american-novels', 'library-books', 'america-canada', 'postmodern-fiction', 'satire', 'audiobooks-listened-to', 'american-literature']\",\n          \"['Fiction', 'Classics', 'Africa', 'Literature', 'Novels', 'British Literature', 'Literary Fiction', '1001-before-you-die', '2020', 'english', 'giallo-thriller-poliziesco', 'inglese', '2016', 'five-star-books', 'favourites', 'novels', '20th-century-postwar-to-late', 'brit-lit', 'fiction', 'favorites', 'death', 'kindle-purchase', 'literary-fiction', '20th-century', 'novel', 'good-fiction', 'important-message', 'read-in-2010', '2nd-reading', 'british-lit', 'colonialism-imperialism', 'africa', 'christianity', 'graham-greene', 'fiction-20th-century', '4-star', 'fiction', 'graham-greene', 'classics', 'colonialism', 'english-20th-c', 'audiobook', 'classic', 'my-2019-reading-challenge', 'fiction', 'i-dont-know-why-i-finished', '1990s', '2016', 'classic', 'greeneland-adventures', 'reviewed']\"\n        ],\n        \"semantic_type\": \"\",\n        \"description\": \"\"\n      }\n    }\n  ]\n}"
            }
          },
          "metadata": {},
          "execution_count": 73
        }
      ]
    },
    {
      "cell_type": "code",
      "source": [
        "!pip install scikit-surprise"
      ],
      "metadata": {
        "colab": {
          "base_uri": "https://localhost:8080/"
        },
        "id": "A7cOF-G1fNfg",
        "outputId": "e0fb8c37-3840-4d80-b164-8e00e6b9be5f"
      },
      "execution_count": null,
      "outputs": [
        {
          "output_type": "stream",
          "name": "stdout",
          "text": [
            "Collecting scikit-surprise\n",
            "  Downloading scikit-surprise-1.1.3.tar.gz (771 kB)\n",
            "\u001b[2K     \u001b[90m━━━━━━━━━━━━━━━━━━━━━━━━━━━━━━━━━━━━━━━━\u001b[0m \u001b[32m772.0/772.0 kB\u001b[0m \u001b[31m5.1 MB/s\u001b[0m eta \u001b[36m0:00:00\u001b[0m\n",
            "\u001b[?25h  Preparing metadata (setup.py) ... \u001b[?25l\u001b[?25hdone\n",
            "Requirement already satisfied: joblib>=1.0.0 in /usr/local/lib/python3.10/dist-packages (from scikit-surprise) (1.4.0)\n",
            "Requirement already satisfied: numpy>=1.17.3 in /usr/local/lib/python3.10/dist-packages (from scikit-surprise) (1.25.2)\n",
            "Requirement already satisfied: scipy>=1.3.2 in /usr/local/lib/python3.10/dist-packages (from scikit-surprise) (1.11.4)\n",
            "Building wheels for collected packages: scikit-surprise\n",
            "  Building wheel for scikit-surprise (setup.py) ... \u001b[?25l\u001b[?25hdone\n",
            "  Created wheel for scikit-surprise: filename=scikit_surprise-1.1.3-cp310-cp310-linux_x86_64.whl size=3162994 sha256=cbd72d39c500f9874333fd3e74697b9ad7ff56eb42113bbfb1fbf0ebc926b7ef\n",
            "  Stored in directory: /root/.cache/pip/wheels/a5/ca/a8/4e28def53797fdc4363ca4af740db15a9c2f1595ebc51fb445\n",
            "Successfully built scikit-surprise\n",
            "Installing collected packages: scikit-surprise\n",
            "Successfully installed scikit-surprise-1.1.3\n"
          ]
        }
      ]
    },
    {
      "cell_type": "code",
      "source": [
        "from surprise import Dataset, Reader\n",
        "from surprise.model_selection import train_test_split\n",
        "from surprise import KNNBasic"
      ],
      "metadata": {
        "id": "V2APhGk5dpou"
      },
      "execution_count": null,
      "outputs": []
    },
    {
      "cell_type": "code",
      "source": [
        "import pandas as pd\n",
        "from surprise import Dataset, Reader\n",
        "\n",
        "# Specify the path to your CSV file\n",
        "file_path = 'book_data.csv'\n",
        "\n",
        "# Load the CSV file into a pandas DataFrame\n",
        "df = pd.read_csv(file_path)\n",
        "\n",
        "# Create a unique user ID for each book\n",
        "df['user_id'] = df['title'].astype('category').cat.codes\n",
        "\n",
        "# Create a mapping of book titles to item IDs\n",
        "item_mapping = df[['user_id', 'title']].drop_duplicates()\n",
        "\n",
        "# Save the item mapping to a CSV file\n",
        "item_mapping.to_csv('item_mapping.csv', index=False)\n",
        "\n",
        "# Create a mapping of item IDs to genres\n",
        "genre_mapping = pd.DataFrame(columns=['item_id', 'genre'])\n",
        "for index, row in df.iterrows():\n",
        "    item_id = item_mapping.loc[item_mapping['title'] == row['title'], 'user_id'].iloc[0]\n",
        "    for genre in eval(row['genres']):\n",
        "        genre_mapping = pd.concat([genre_mapping, pd.DataFrame({'item_id': [item_id], 'genre': [genre]})], ignore_index=True)\n",
        "\n",
        "# Save the genre mapping to a CSV file\n",
        "genre_mapping.to_csv('genre_mapping.csv', index=False)\n",
        "\n",
        "# Define the Reader object with rating_scale\n",
        "reader = Reader(rating_scale=(1, 5))\n",
        "\n",
        "# Load the dataset from the pandas DataFrame\n",
        "data = Dataset.load_from_df(df[['user_id', 'title', 'rating']], reader)\n"
      ],
      "metadata": {
        "id": "2aaQA1EPgc1G"
      },
      "execution_count": null,
      "outputs": []
    },
    {
      "cell_type": "code",
      "source": [
        "from surprise import SVD\n",
        "from surprise.model_selection import train_test_split\n",
        "from surprise import accuracy\n",
        "\n",
        "# Split the dataset into train and test sets\n",
        "trainset, testset = train_test_split(data, test_size=0.2, random_state=42)\n",
        "\n",
        "# Choose the SVD algorithm\n",
        "model = SVD()\n",
        "\n",
        "# Train the model on the trainset\n",
        "model.fit(trainset)\n",
        "\n",
        "# Make predictions on the testset\n",
        "predictions = model.test(testset)\n",
        "\n",
        "# Evaluate the model\n",
        "rmse = accuracy.rmse(predictions)\n",
        "mae = accuracy.mae(predictions)\n",
        "\n",
        "print(\"RMSE:\", rmse)\n",
        "print(\"MAE:\", mae)"
      ],
      "metadata": {
        "colab": {
          "base_uri": "https://localhost:8080/"
        },
        "id": "kPXs2wzbgkcL",
        "outputId": "d31c18f7-3e1f-4a90-ab28-35fa890a95e4"
      },
      "execution_count": null,
      "outputs": [
        {
          "output_type": "stream",
          "name": "stdout",
          "text": [
            "RMSE: 0.2047\n",
            "MAE:  0.1425\n",
            "RMSE: 0.20471080974144967\n",
            "MAE: 0.1425374999999999\n"
          ]
        }
      ]
    },
    {
      "cell_type": "code",
      "source": [
        "from surprise.model_selection import cross_validate\n",
        "\n",
        "# Optionally, evaluate the model using cross-validation\n",
        "cv_results = cross_validate(model, data, measures=['RMSE', 'MAE'], cv=5, verbose=True)\n",
        "\n",
        "# Make predictions for user-item pairs\n",
        "# For example, to predict the rating for user with user_id=1 and item with item_id=10\n",
        "predicted_rating = model.predict(1, 10)\n",
        "print(\"Predicted rating:\", predicted_rating.est)"
      ],
      "metadata": {
        "colab": {
          "base_uri": "https://localhost:8080/"
        },
        "id": "ijKGRh00h4YD",
        "outputId": "c8d96519-2883-4399-8228-239349f6dcd2"
      },
      "execution_count": null,
      "outputs": [
        {
          "output_type": "stream",
          "name": "stdout",
          "text": [
            "Evaluating RMSE, MAE of algorithm SVD on 5 split(s).\n",
            "\n",
            "                  Fold 1  Fold 2  Fold 3  Fold 4  Fold 5  Mean    Std     \n",
            "RMSE (testset)    0.1577  0.2504  0.1727  0.1701  0.1990  0.1900  0.0331  \n",
            "MAE (testset)     0.1283  0.2099  0.1274  0.1223  0.1558  0.1487  0.0328  \n",
            "Fit time          0.00    0.00    0.00    0.00    0.00    0.00    0.00    \n",
            "Test time         0.00    0.00    0.00    0.01    0.00    0.00    0.00    \n",
            "Predicted rating: 3.9067499999999997\n"
          ]
        }
      ]
    },
    {
      "cell_type": "code",
      "source": [
        "# Example: Generate recommendations for user with user_id=1\n",
        "\n",
        "# Get the list of item IDs (titles) that the user has already rated\n",
        "rated_items = df[df['user_id'] == 1]['title'].tolist()\n",
        "\n",
        "# Get the list of all item IDs (titles) in the dataset\n",
        "all_items = df['title'].unique().tolist()\n",
        "\n",
        "# Get the list of unseen items (items that the user has not rated)\n",
        "unseen_items = [item for item in all_items if item not in rated_items]\n",
        "\n",
        "# Make predictions for the unseen items\n",
        "predictions = [model.predict(1, item_id) for item_id in unseen_items]\n",
        "\n",
        "# Sort the predictions by estimated rating in descending order\n",
        "top_recommendations = sorted(predictions, key=lambda x: x.est, reverse=True)[:10]\n",
        "\n",
        "# Print the top recommendations\n",
        "print(\"Top Recommendations:\")\n",
        "for recommendation in top_recommendations:\n",
        "    print(f\"- {recommendation.iid} (Estimated rating: {recommendation.est})\")"
      ],
      "metadata": {
        "colab": {
          "base_uri": "https://localhost:8080/"
        },
        "id": "IvRMNljTiNzH",
        "outputId": "bbd81fb9-e0ca-474a-eb1f-b41494c35b6f"
      },
      "execution_count": null,
      "outputs": [
        {
          "output_type": "stream",
          "name": "stdout",
          "text": [
            "Top Recommendations:\n",
            "- Watchmen (Estimated rating: 3.953779046547765)\n",
            "- 1984 (Estimated rating: 3.9473161747926766)\n",
            "- To Kill a Mockingbird (Estimated rating: 3.9444548904633217)\n",
            "- The Lord of the Rings (Estimated rating: 3.939901060981948)\n",
            "- Midnight’s Children (Estimated rating: 3.93882347954204)\n",
            "- Infinite Jest (Estimated rating: 3.9379725709871285)\n",
            "- One Flew Over the Cuckoo’s Nest (Estimated rating: 3.935933930176345)\n",
            "- All the King’s Men (Estimated rating: 3.932756250287451)\n",
            "- Blood Meridian, or, the Evening Redness in the West (Estimated rating: 3.9316559552424573)\n",
            "- I, Claudius (Estimated rating: 3.928757671725139)\n"
          ]
        }
      ]
    },
    {
      "cell_type": "code",
      "source": [
        "from surprise import KNNBasic, NMF\n",
        "from surprise.model_selection import cross_validate\n",
        "\n",
        "# Collaborative Filtering (KNN)\n",
        "knn_model = KNNBasic()\n",
        "cv_results_knn = cross_validate(knn_model, data, measures=['RMSE', 'MAE'], cv=5, verbose=True)"
      ],
      "metadata": {
        "colab": {
          "base_uri": "https://localhost:8080/"
        },
        "id": "Tql3jVXAiZXA",
        "outputId": "4ba1e71c-b142-40d3-ebb6-53be8df3740a"
      },
      "execution_count": null,
      "outputs": [
        {
          "output_type": "stream",
          "name": "stdout",
          "text": [
            "Computing the msd similarity matrix...\n",
            "Done computing similarity matrix.\n",
            "Computing the msd similarity matrix...\n",
            "Done computing similarity matrix.\n",
            "Computing the msd similarity matrix...\n",
            "Done computing similarity matrix.\n",
            "Computing the msd similarity matrix...\n",
            "Done computing similarity matrix.\n",
            "Computing the msd similarity matrix...\n",
            "Done computing similarity matrix.\n",
            "Evaluating RMSE, MAE of algorithm KNNBasic on 5 split(s).\n",
            "\n",
            "                  Fold 1  Fold 2  Fold 3  Fold 4  Fold 5  Mean    Std     \n",
            "RMSE (testset)    0.1825  0.1805  0.2788  0.1456  0.1505  0.1876  0.0480  \n",
            "MAE (testset)     0.1395  0.1513  0.2142  0.1165  0.1197  0.1482  0.0354  \n",
            "Fit time          0.00    0.00    0.00    0.00    0.00    0.00    0.00    \n",
            "Test time         0.00    0.00    0.00    0.00    0.00    0.00    0.00    \n"
          ]
        }
      ]
    },
    {
      "cell_type": "code",
      "source": [
        "print(\"KNN Collaborative Filtering Cross-Validation Results:\")\n",
        "print(\"Average RMSE:\", cv_results_knn['test_rmse'].mean())\n",
        "print(\"Average MAE:\", cv_results_knn['test_mae'].mean())"
      ],
      "metadata": {
        "colab": {
          "base_uri": "https://localhost:8080/"
        },
        "id": "2d46OOIZizjj",
        "outputId": "ba8e3ef1-36bf-4603-ad7a-c36904a3dd70"
      },
      "execution_count": null,
      "outputs": [
        {
          "output_type": "stream",
          "name": "stdout",
          "text": [
            "KNN Collaborative Filtering Cross-Validation Results:\n",
            "Average RMSE: 0.1875618662912376\n",
            "Average MAE: 0.14824250000000003\n"
          ]
        }
      ]
    },
    {
      "cell_type": "code",
      "source": [
        "# Make predictions for user-item pairs\n",
        "# For example, to predict the rating for user with user_id=1 and item with item_id=10\n",
        "predicted_rating_knn = knn_model.predict(1, 10)\n",
        "print(\"Predicted rating (KNN):\", predicted_rating_knn.est)"
      ],
      "metadata": {
        "colab": {
          "base_uri": "https://localhost:8080/"
        },
        "id": "p-46qxbPjDN2",
        "outputId": "9b3b80f8-c351-43bb-aa89-754807b69ea4"
      },
      "execution_count": null,
      "outputs": [
        {
          "output_type": "stream",
          "name": "stdout",
          "text": [
            "Predicted rating (KNN): 3.9188750000000008\n"
          ]
        }
      ]
    },
    {
      "cell_type": "code",
      "source": [
        "# Example: Generate recommendations for user with user_id=1\n",
        "\n",
        "# Get the list of item IDs (titles) that the user has already rated\n",
        "rated_items = df[df['user_id'] == 1]['title'].tolist()\n",
        "\n",
        "# Get the list of all item IDs (titles) in the dataset\n",
        "all_items = df['title'].unique().tolist()\n",
        "\n",
        "# Get the list of unseen items (items that the user has not rated)\n",
        "unseen_items = [item for item in all_items if item not in rated_items]\n",
        "\n",
        "# Make predictions for the unseen items using the KNN model\n",
        "predictions = [knn_model.predict(1, item_id) for item_id in unseen_items]\n",
        "\n",
        "# Sort the predictions by estimated rating in descending order\n",
        "top_recommendations = sorted(predictions, key=lambda x: x.est, reverse=True)[:10]\n",
        "\n",
        "# Print the top recommendations\n",
        "print(\"Top Recommendations (KNN):\")\n",
        "for recommendation in top_recommendations:\n",
        "    print(f\"- {recommendation.iid} (Estimated rating: {recommendation.est})\")"
      ],
      "metadata": {
        "colab": {
          "base_uri": "https://localhost:8080/"
        },
        "id": "fT2s2M54jFjl",
        "outputId": "4c45a6c7-fad9-4aed-a33f-d1c383595041"
      },
      "execution_count": null,
      "outputs": [
        {
          "output_type": "stream",
          "name": "stdout",
          "text": [
            "Top Recommendations (KNN):\n",
            "- To Kill a Mockingbird (Estimated rating: 3.9188750000000008)\n",
            "- 1984 (Estimated rating: 3.9188750000000008)\n",
            "- The Lord of the Rings (Estimated rating: 3.9188750000000008)\n",
            "- The Catcher in the Rye (Estimated rating: 3.9188750000000008)\n",
            "- The Great Gatsby (Estimated rating: 3.9188750000000008)\n",
            "- The Lion, the Witch and the Wardrobe (Estimated rating: 3.9188750000000008)\n",
            "- Lord of the Flies (Estimated rating: 3.9188750000000008)\n",
            "- Animal Farm (Estimated rating: 3.9188750000000008)\n",
            "- Catch-22 (Estimated rating: 3.9188750000000008)\n",
            "- The Grapes of Wrath (Estimated rating: 3.9188750000000008)\n"
          ]
        }
      ]
    },
    {
      "cell_type": "code",
      "source": [],
      "metadata": {
        "id": "_HOU5k4vlouB"
      },
      "execution_count": null,
      "outputs": []
    }
  ]
}